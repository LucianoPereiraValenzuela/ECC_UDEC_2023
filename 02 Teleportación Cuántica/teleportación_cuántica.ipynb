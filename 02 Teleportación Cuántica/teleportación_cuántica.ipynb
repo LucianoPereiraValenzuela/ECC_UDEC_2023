{
 "cells": [
  {
   "cell_type": "code",
   "execution_count": 1,
   "metadata": {},
   "outputs": [],
   "source": [
    "import numpy as np\n",
    "from qiskit import QuantumCircuit, QuantumRegister, ClassicalRegister, Aer\n",
    "from qiskit.visualization import plot_histogram, plot_state_qsphere"
   ]
  },
  {
   "cell_type": "markdown",
   "metadata": {},
   "source": [
    "# Teleportación cuántica \n",
    "En este taller veremos una de las aplicaciones más sorprendentes, contraintuitivas y divertidas de la mecánica cuántica, la **teleportación cuántica**. Esta nos permite mover estados cuánticos entre dos puntos sin la necesidad de un canal de comunicación físico, sino que solo a través de un estado entrelazado."
   ]
  },
  {
   "cell_type": "markdown",
   "metadata": {},
   "source": [
    "Consideremos dos personas, Alice y Bob, los cuales se encontraron hace mucho tiempo, pero que ahora viven muy separados. Cuando estuvieron juntos ellos generaron el siguiente estado entrelazado\n",
    "$$ |EPR\\rangle = \\frac{1}{\\sqrt{2}}( |0_A0_B\\rangle + |1_A1_B\\rangle ) .$$\n",
    "Al separarse cada uno se llevó consigo uno de los qubits de este estado. En la actualidad, Alice tiene la misión de enviarle a Bob un estado cuántico $|\\psi\\rangle$ que este no conoce, pero solamente pueden intercambiar información clásica a través de un teléfono. "
   ]
  },
  {
   "cell_type": "markdown",
   "metadata": {},
   "source": [
    "Esta no es una tarea sencilla para Alice. Dado que no conoce el estado $|\\psi\\rangle$, no puede simplemente llamar a Bob y decírselo. Incluso si conociera el estado $|\\psi\\rangle$, este es un vector definido en un espacio continuo, por lo que Alice requeriría una cantidad infinita de tiempo para poder comunicárselo a Bob. "
   ]
  },
  {
   "cell_type": "markdown",
   "metadata": {},
   "source": [
    "¿Existe alguna otra alternativa? Claro que sí! Alice puede usar el estado $|EPR\\rangle$ que compartió con Bob en el pasado y realizar una teleportación cuántica! Ahora implementaremos paso por paso este protocolo con Qiskit."
   ]
  },
  {
   "cell_type": "markdown",
   "metadata": {},
   "source": [
    "**Ejercicio 1: Estados iniciales.**\n",
    "\n",
    "Cree un circuito cuántico llamado `qc_in` de 3 qubits, dos para Alice y uno para Bob, y 2 bits clásicos. Posteriormente, prepare en el primer qubit de Alice el estado cuántico \n",
    "$$|\\psi\\rangle = \\frac{1}{\\sqrt{2}}( |0_A\\rangle + i|1_A\\rangle )$$\n",
    "y entre el segundo qubit de Alice y el de Bob el estado entrelazado $|EPR\\rangle$. De este modo, el estado inicial del circuito es\n",
    "$$ |\\Psi_{in}\\rangle = |\\psi\\rangle \\otimes |EPR\\rangle = \\frac{1}{2}( |0_A0_A0_B\\rangle +|0_A1_A1_B\\rangle +i|1_A0_A0_B\\rangle +i|1_A1_A1_B\\rangle      ).$$"
   ]
  },
  {
   "cell_type": "code",
   "execution_count": null,
   "metadata": {},
   "outputs": [],
   "source": [
    "### solucion\n",
    "qba = QuantumRegister( , name='alice' )\n",
    "qbb = QuantumRegister( , name='bob' )\n",
    "cb  = ClassicalRegister( , name='clbit' )\n",
    "\n",
    "qc_in = QuantumCircuit( qba, qbb, cb )\n",
    "\n",
    "#Alice\n",
    "\n",
    "\n",
    "#EPR (Alice y Bob)\n",
    "\n",
    "\n",
    "qc_in.draw( output='mpl' )"
   ]
  },
  {
   "cell_type": "markdown",
   "metadata": {},
   "source": [
    "**Ejercicio 2: Medida de Bell.**\n",
    "\n",
    "Cree otro circuito de 3 qubits y 2 clbits llamado `qc_bell`. Implemente una medida de Bell entre los dos primeros qubits. Esta es una medida entrelazada que se implementa aplicando una $CX$ entre los dos qubit, una $H$ en el primero qubit, y mediciones en ambos qubits."
   ]
  },
  {
   "cell_type": "code",
   "execution_count": null,
   "metadata": {},
   "outputs": [],
   "source": [
    "qc_bell = QuantumCircuit( qba, qbb, cb )\n",
    "#####\n",
    "#solucion, implementar gates de medida\n",
    "\n",
    "#####\n",
    "qc_bell.measure( qba, cb )\n",
    "qc_bell.draw( output='mpl' )"
   ]
  },
  {
   "cell_type": "markdown",
   "metadata": {},
   "source": [
    "**Ejercicio 3: Composición de circuitos.**\n",
    "\n",
    "Cree un nuevo circuito llamado `qc` de 3 qubits y 2 clbits. Componga los circuitos `qc`, `qc_in` y `qc_bell` con la función `compose`. El estado de este circuito justo antes de la medida es\n",
    "\\begin{align*}\n",
    "|\\Psi_{out}\\rangle =& \\frac{1}{2\\sqrt{2}}\\big[ |0_A0_A\\rangle(|0_B\\rangle+i|1_B\\rangle) + |0_A1_A\\rangle(|1_B\\rangle+i|0_B\\rangle) \\\\\n",
    "& \\qquad + |1_A0_A\\rangle(|0_B\\rangle-i|1_B\\rangle) + |1_A1_A\\rangle(|1_B\\rangle-i|0_B\\rangle) \\big].\n",
    "\\end{align*}\n"
   ]
  },
  {
   "cell_type": "code",
   "execution_count": null,
   "metadata": {},
   "outputs": [],
   "source": []
  },
  {
   "cell_type": "markdown",
   "metadata": {},
   "source": [
    "**Problema 4: Puertas condicionadas clásicas.**\n",
    "\n",
    "Del estado $|\\Psi_{out}\\rangle$ podemos ver el estado de Bob una vez que Alice realiza una medida sobre sus dos qubits.\n",
    "\n",
    "\\begin{equation*}\n",
    "\\begin{matrix}\n",
    "00 & \\rightarrow &|0\\rangle + i|1\\rangle\\\\\n",
    "01 & \\rightarrow &|1\\rangle + i|0\\rangle\\\\\n",
    "10 & \\rightarrow &|0\\rangle - i|1\\rangle\\\\\n",
    "11 & \\rightarrow &|1\\rangle + i|0\\rangle\n",
    "\\end{matrix}\n",
    "\\end{equation*}\n",
    "\n",
    "De este modo, si obtenemos el resultado $00$ el estado de Bob es exactamente el estado $|\\psi\\rangle$. Sin embargo, cualquiera de los otros resultados nos da un estado diferente. ¿Puede Bob arreglar sus estados en ese caso? La respuesta es que sí, pero requiere que Alice le comunique por teléfono (clásicamente) el resultado de sus medidas:\n",
    "\n",
    "* Si el resultado fue $00$, Bob no hace nada.\n",
    "* Si el resultado fue $01$, Bob puede arreglar su estado aplicando un puerta $X$.\n",
    "* Si el resultado fue $10$, Bob puede arreglar su estado aplicando un puerta $Z$.\n",
    "* Si el resultado fue $11$, Bob puede arreglar su estado aplicando primero una puerta $X$ y después un puerta $Z$.\n",
    " \n",
    "Todo esto puede resumirse en que Bob aplica la puerta $Z^{m_1}X^{m_0}$, la cual esta controlada clásicamente por los resultados de las medidas $m_2m_1$ de Alice. Esta operación puede ser implementada fácilmente mediante la función `c_if`. \n",
    "\n",
    "Aguegue la operación clásicamente controlada $Z^{m_1}X^{m_0}$ al circuito `qc`."
   ]
  },
  {
   "cell_type": "code",
   "execution_count": null,
   "metadata": {},
   "outputs": [],
   "source": []
  },
  {
   "cell_type": "markdown",
   "metadata": {},
   "source": [
    "**Ejercicio 5: Simulación** \n",
    "\n",
    "Ejecute el circuito `qc` con el `statevector_simulator` y verifique que el estado del circuito es igual al estado $|\\psi\\rangle$. Note que el resultado de la simualción será un estado de 3 qubits, de modo que debemos compararlo con \n",
    "\\begin{equation*}\n",
    "|\\psi\\rangle\\otimes|0\\rangle\\otimes|0\\rangle = \\frac{1}{\\sqrt{2}}( |000\\rangle + i|100\\rangle ).\n",
    "\\end{equation*}"
   ]
  },
  {
   "cell_type": "code",
   "execution_count": null,
   "metadata": {},
   "outputs": [],
   "source": []
  },
  {
   "cell_type": "code",
   "execution_count": null,
   "metadata": {},
   "outputs": [],
   "source": []
  },
  {
   "cell_type": "code",
   "execution_count": null,
   "metadata": {},
   "outputs": [],
   "source": []
  },
  {
   "cell_type": "code",
   "execution_count": 3,
   "metadata": {},
   "outputs": [
    {
     "data": {
      "text/html": [
       "<h3>Version Information</h3><table><tr><th>Qiskit Software</th><th>Version</th></tr><tr><td><code>qiskit-terra</code></td><td>0.22.1</td></tr><tr><td><code>qiskit-aer</code></td><td>0.11.0</td></tr><tr><td><code>qiskit-ibmq-provider</code></td><td>0.19.2</td></tr><tr><td><code>qiskit</code></td><td>0.39.0</td></tr><tr><th>System information</th></tr><tr><td>Python version</td><td>3.10.6</td></tr><tr><td>Python compiler</td><td>MSC v.1929 64 bit (AMD64)</td></tr><tr><td>Python build</td><td>main, Aug 22 2022 20:29:51</td></tr><tr><td>OS</td><td>Windows</td></tr><tr><td>CPUs</td><td>6</td></tr><tr><td>Memory (Gb)</td><td>7.854728698730469</td></tr><tr><td colspan='2'>Sat Jan 07 14:01:01 2023 Hora verano Sudamérica Pacífico</td></tr></table>"
      ],
      "text/plain": [
       "<IPython.core.display.HTML object>"
      ]
     },
     "metadata": {},
     "output_type": "display_data"
    }
   ],
   "source": [
    "import qiskit.tools.jupyter\n",
    "%qiskit_version_table"
   ]
  }
 ],
 "metadata": {
  "kernelspec": {
   "display_name": "Python 3 (ipykernel)",
   "language": "python",
   "name": "python3"
  },
  "language_info": {
   "codemirror_mode": {
    "name": "ipython",
    "version": 3
   },
   "file_extension": ".py",
   "mimetype": "text/x-python",
   "name": "python",
   "nbconvert_exporter": "python",
   "pygments_lexer": "ipython3",
   "version": "3.8.13"
  },
  "vscode": {
   "interpreter": {
    "hash": "e7e310cc57f586cdb9eed05c53a9ee7f3128e351c4ba047961e72ac205bd76e6"
   }
  },
  "widgets": {
   "application/vnd.jupyter.widget-state+json": {
    "state": {},
    "version_major": 2,
    "version_minor": 0
   }
  }
 },
 "nbformat": 4,
 "nbformat_minor": 4
}
