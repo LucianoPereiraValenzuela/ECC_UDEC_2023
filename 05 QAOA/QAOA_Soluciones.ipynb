{
 "cells": [
  {
   "cell_type": "markdown",
   "metadata": {
    "ExecuteTime": {
     "end_time": "2022-12-05T22:01:43.347285Z",
     "start_time": "2022-12-05T22:01:41.713060Z"
    },
    "id": "oNoKfR3I8EpE",
    "tags": []
   },
   "source": [
    "# Problemas de optimización con QAOA\n",
    "\n",
    "Recientemente ha surgido un gran interés en utilizar computadores cuánticos para encontrar la solución de problemas de optimización combinatorial. En el siguiente taller estudiaremos como solucionar el problema $MAXCUT$ mediante QAOA."
   ]
  },
  {
   "cell_type": "markdown",
   "metadata": {
    "id": "6ult54mtLUyO"
   },
   "source": [
    "## Problemas de optimización combinatorial\n",
    "\n",
    "Un problema de optimización combinatorial corresponde a buscar una solución óptima en un conjunto finito o contablemente infinito de posibles soluciones, y generalmente se define con respecto a una función de coste que busca ser maximizada o minimizada.\n",
    "\n",
    "Algunos problemas típicos de optimización combinatorial incluyen:\n",
    "\n",
    "*  Minimización: distancias, tiempos de procesamiento, cantidad de material, consumo de energía.\n",
    "*  Maximización: utilidades, eficiencia."
   ]
  },
  {
   "cell_type": "markdown",
   "metadata": {
    "id": "fR2rKUN2LUyT"
   },
   "source": [
    "Cualquier problema de optimización combinatorial puede expresarse como\n",
    "\n",
    "$$ \\text{maximizar } \\;\\;      C(x)$$\n",
    "\n",
    "$$ \\text{sujeto a } \\;\\; x \\in S $$\n",
    "\n",
    "donde $x \\in S$ es una variable discreta y $C : D \\rightarrow \\mathbb{R}$ es una función de costo, que mapea de algún dominio de $S$ a los números reales $\\mathbb{R}$. La variable $x$ puede estar sujeta a un conjunto de restricciones (*constrains*) y pertenece al conjunto $S \\subset D$ de posibles puntos. Si consideramos problemas de optimización combinatorial binaria, el objetivo es encontrar la cadena de n-bits $x$ para la cuál $C(x)$ es maximal."
   ]
  },
  {
   "cell_type": "markdown",
   "metadata": {
    "ExecuteTime": {
     "end_time": "2022-12-08T00:06:17.064326Z",
     "start_time": "2022-12-08T00:06:17.044952Z"
    },
    "id": "qClQ-CwHLUyV"
   },
   "source": [
    "Bajo ciertas condiciones, es posible mapear la función de costo a un Hamiltoniano que es diagonal en la base computacional y que cuente con a lo más $m$ términos locales $\\hat{C}_k$, \n",
    "\n",
    "$$ H = \\sum_{k = 1}^m \\hat{C}_k = \\sum_{x \\in \\{0,1\\}^n} C(x) |x \\rangle\\langle x| $$\n",
    "\n",
    "donde $x \\in \\{0,1\\}^n$ son las etiquetas de la base computacional $|x \\rangle \\in \\mathbb{C}^{2^n}$."
   ]
  },
  {
   "cell_type": "markdown",
   "metadata": {
    "id": "k3Z5RPJuLUyY"
   },
   "source": [
    "## QAOA (Quantum Approximate Optimization Algorithm)\n",
    "\n",
    "El algoritmo QAOA (*Quantum Approximate Optimization Algorithm*) corresponde a un algortimo variacional cuántico para resolver problemas combinatoriales. QAOA utiliza una unitaria $U(\\boldsymbol{\\beta}, \\boldsymbol{\\gamma})$ caracterizada por los parámetros $(\\boldsymbol{\\beta}, \\boldsymbol{\\gamma})$ para preparar el estado cuántico $\\lvert \\psi(\\boldsymbol{\\beta}, \\boldsymbol{\\gamma}) \\rangle$ y maximizar una función de coste $F_p(\\boldsymbol{\\gamma},\\boldsymbol{\\beta})$ que represente el problema.\n",
    "\n",
    "La unitaria $U(\\boldsymbol{\\beta}, \\boldsymbol{\\gamma})$ esta compuesta a la vez por dos unitarias $U(\\boldsymbol{\\beta}) = e^{-i \\boldsymbol{\\beta} H_B}$ y $U(\\boldsymbol{\\gamma}) = e^{-i \\boldsymbol{\\gamma} H}$, donde $H_B$ corresponde al Hamiltoniano de mezcla (*mixing*) y $H$ corresponde al Hamiltoniano que representa el problema de optimización. Siguiendo el artículo original de Farhi et. al [1](https://arxiv.org/abs/1411.4028), el problema de optimización está codificado en un Hamiltoniano diagonal en la base computacional \n",
    "\n",
    "$$ H = \\sum_{k = 1}^m \\hat{C}_k,$$\n",
    "\n",
    "mientras que el Hamiltoniano de mezcla corresponde a sumas de rotaciones $X$ sobre un único qubit, dado por\n",
    "\n",
    "$$ H_B = \\sum_{i = 1}^n X_i.$$"
   ]
  },
  {
   "cell_type": "markdown",
   "metadata": {
    "id": "JyGB3F00XKvo"
   },
   "source": [
    "El estado objetivo del algoritmo es preparado aplicando estas unitarias en bloques alternantes $p$ veces\n",
    "\n",
    "\\begin{align}\n",
    "\\lvert \\psi(\\boldsymbol{\\beta}, \\boldsymbol{\\gamma}) \\rangle &= \\underbrace{U(\\boldsymbol{\\beta}) U(\\boldsymbol{\\gamma}) \n",
    "                                            \\cdots U(\\boldsymbol{\\beta}) U(\\boldsymbol{\\gamma})}_{p \\; \\text{veces}} \n",
    "\\lvert \\psi_0 \\rangle \\\\\\\\\n",
    "&= e^{ -i\\beta_p H_B } e^{ -i\\gamma_p H } \\ldots e^{ -i\\beta_1 H_B } e^{ -i\\gamma_1 H } \\lvert \\psi_0 \\rangle \n",
    "\\end{align}\n",
    "\n",
    "donde $\\lvert \\psi_0 \\rangle$ es un estado inicial conveniente, utilizandose típicamente el estado producto $|+\\rangle^n = \\bigg(\\frac{1}{\\sqrt{2}}\\big(\\lvert 0 \\rangle + \\lvert 1 \\rangle\\big)\\bigg)^{\\otimes n}$."
   ]
  },
  {
   "cell_type": "markdown",
   "metadata": {
    "id": "NwylVs60XPxW"
   },
   "source": [
    "El objetivo del algoritmo es encontrar los parámetros óptimos $(\\boldsymbol{\\beta}_{opt}, \\boldsymbol{\\gamma}_{opt})$ tales que el estado cuántico $\\lvert \\psi(\\boldsymbol{\\beta}_{opt}, \\boldsymbol{\\gamma}_{opt}) \\rangle$ codifique la solución del problema, lo cuál corresponde a maximizar la función de coste\n",
    "\n",
    "\\begin{align}\n",
    "F_p(\\boldsymbol{\\gamma},\\boldsymbol{\\beta}) &= \\langle \\psi_p(\\boldsymbol{\\gamma},\\boldsymbol{\\beta})|H|\\psi_p(\\boldsymbol{\\gamma},\\boldsymbol{\\beta})\\rangle\\\\\\\\\n",
    "&= \\sum_{x \\in \\{0,1\\}^n} C(x) |\\langle x| \\psi_p(\\boldsymbol{\\gamma},\\boldsymbol{\\beta}) \\rangle |^2.\n",
    "\\end{align}\n",
    "\n",
    "Dado que el Hamiltoniano $H$ es diagonal en la base computacional, podemos calcular fácilmente el valor de expectación anterior muestreando el estado $| \\psi_p(\\boldsymbol{\\gamma},\\boldsymbol{\\beta}) \\rangle$ en la base computacional.\n",
    "\n",
    "Para cada cadena de bits $x$ obtenida de las distribución $|\\langle x| \\psi_p(\\boldsymbol{\\gamma},\\boldsymbol{\\beta}) \\rangle |^2$, evaluamos la función de coste $C(x)$ y promediamos sobre el número total de muestras."
   ]
  },
  {
   "cell_type": "markdown",
   "metadata": {
    "id": "cCBtOBFrLUyc"
   },
   "source": [
    "# Problema de $MAXCUT$\n",
    "\n",
    "El problema de *Maximum Cut* ($MAXCUT$) corresponde a un problema NP-completo, con una serie de aplicaciones en áreas como análisis de grupos, ciencia de redes y física estadística. El objetivo es particionar los nodos de un grafo en dos conjuntos, de tal forma que el número de aristas (edges) entre ambos conjuntos sea máximo. Por ejemplo, consideremos el siguiente grafo de cuatro nodos y algunas de las distintas formas en que puede ser particionado en dos conjuntos, representados por los colores azul y rojo."
   ]
  },
  {
   "cell_type": "markdown",
   "metadata": {
    "id": "luWttZvfkbNW"
   },
   "source": [
    "<img src=\"img/maxcut.png\"/>"
   ]
  },
  {
   "cell_type": "markdown",
   "metadata": {},
   "source": [
    "Como a cada nodo se le puede asignar el conjunto azul o rojo, existen $2^4=16$ posibles elecciones, de las cuales tenemos que encontrar aquella que entrega el mayor número de aristas entre ambos conjuntos. En el ejemplo superior, el número de aristas corresponde a $0$, $2$, $2$ y $4$ de izquierda a derecha.\n",
    "\n",
    "Si codificamos los elementos del conjunto rojo como $0$s y los elementos del conjunto azul como $1$s, es fácil ver que la cadena de bits \"$0101$\" y \"$1010$\" representan la asignación de los nodos que corresponden a la solución del problema. El objetivo de este taller será encontrar la solución de este ejemplo de $MAXCUT$ mediante QAOA en un computador cuántico.\n"
   ]
  },
  {
   "cell_type": "markdown",
   "metadata": {},
   "source": [
    "Un ejemplo práctico en markteing del problema de $MAXCUT$ es el siguiente. Consideremos un sistema de muchas personas que pueden interactuar entre si e influenciar en las decisiones de sus vecinos más cercanos, de tal forma que los individuos pueden ser representandos como los nodos de un grafo, y interacción entre dos personas corresponde a la arista que une ambos nodos. Supongamos que esta interacción permite que los individuos influyen en las decisiones de compras de otras personas. Luego, podemos predecir el resultado de una estrategia de ventas si ofrecemos productos gratis a ciertos individuos, y después nos preguntamos cuál es el subconjunto de individuos que deben recibir las productos gratis para maximizar las utilidades."
   ]
  },
  {
   "cell_type": "markdown",
   "metadata": {
    "id": "t3BCmCvHqDL3"
   },
   "source": [
    "Primero, definimos un objeto de la clase `networkx` para representar el grafo anterior."
   ]
  },
  {
   "cell_type": "code",
   "execution_count": null,
   "metadata": {
    "ExecuteTime": {
     "end_time": "2023-01-03T04:29:05.172735Z",
     "start_time": "2023-01-03T04:29:00.924319Z"
    },
    "id": "Un2N_3HmqCk8"
   },
   "outputs": [],
   "source": [
    "# Importamos los paquetes necesarios\n",
    "\n",
    "from qiskit import QuantumCircuit, ClassicalRegister, QuantumRegister, Aer, execute, transpile\n",
    "\n",
    "from qiskit.circuit import Parameter\n",
    "from qiskit.tools.visualization import plot_histogram\n",
    "\n",
    "\n",
    "import matplotlib.pyplot as plt\n",
    "import matplotlib.axes as axes\n",
    "import numpy as np\n",
    "import networkx as nx\n",
    "\n",
    "import warnings\n",
    "warnings.filterwarnings(\"ignore\", category=RuntimeWarning)"
   ]
  },
  {
   "cell_type": "code",
   "execution_count": null,
   "metadata": {
    "ExecuteTime": {
     "end_time": "2023-01-03T04:29:05.503653Z",
     "start_time": "2023-01-03T04:29:05.172735Z"
    },
    "colab": {
     "base_uri": "https://localhost:8080/",
     "height": 319
    },
    "id": "IODZVEBPfRCu",
    "outputId": "3be2dbb2-7c4b-49f4-de34-6821ac55c349"
   },
   "outputs": [],
   "source": [
    "G = nx.Graph()\n",
    "G.add_nodes_from([0, 1, 2, 3])\n",
    "G.add_edges_from([(0, 1), (1, 2), (2, 3), (3, 0)])\n",
    "nx.draw(G, with_labels=True, alpha=0.8, node_size=500)\n",
    "\n",
    "# Si su grafo se ve de forma distinta (por ejemplo, con las aristas cruzadas, ejecute nuevamente esta celda de código)"
   ]
  },
  {
   "cell_type": "markdown",
   "metadata": {
    "id": "Ku76p5ZoqyuG"
   },
   "source": [
    "El Hamiltoniano del problema $MAXCUT$ con peso esta dado por\n",
    "\n",
    "$$\n",
    "H = \\sum_{i<j} w_{ij} Z_i Z_j.\n",
    "$$\n",
    "\n",
    "donde $w_{ij}$ corresponde al peso asociado a la arista que une el nodo $i$ con el nodo $j$. En este caso consideraremos pesos constantes $w_{ij} = w = 1$. Para nuestro ejemplo de cuatro nodos, vamos a necesitar un Hamiltoniano de 4 qubits dado por\n",
    "\n",
    "$$\n",
    "H = \\big(Z_0 \\otimes Z_1 \\otimes I_2 \\otimes I_3\\big) + \n",
    "    \\big(I_0 \\otimes Z_1 \\otimes Z_2 \\otimes I_3\\big) +\n",
    "    \\big(Z_0 \\otimes I_1 \\otimes I_2 \\otimes Z_3\\big) +\n",
    "    \\big(I_0 \\otimes I_1 \\otimes Z_2 \\otimes Z_3\\big)\n",
    "$$\n",
    "\n",
    "Por otro lado, el Hamiltoniano de mezcla es de la forma\n",
    "\n",
    "$$\n",
    "H_B = \\big(X_0 \\otimes I_1 \\otimes I_2 \\otimes I_3 \\big) + \n",
    "      \\big(I_0 \\otimes X_1 \\otimes I_2 \\otimes I_3 \\big) +\n",
    "      \\big(I_0 \\otimes I_1 \\otimes X_2 \\otimes I_3 \\big) +\n",
    "      \\big(I_0 \\otimes I_1 \\otimes I_2 \\otimes X_3 \\big)\n",
    "$$\n",
    "\n",
    "Como los términos individiales en la suma de $H$ y $H_B$ commutan entre ellos, podemos utilizar la fórmula de Baker-Campbell-Hausdorff para escribir las unitarias como\n",
    "\n",
    "$$ U(H_B) = e^{-i \\beta H_B} = e^{-i \\beta X_0}e^{-i \\beta X_1}e^{-i \\beta X_2}e^{-i \\beta X_3}, \\quad U(H_P) = e^{-i \\gamma H_P} = e^{-i \\gamma Z_0 Z_1}e^{-i \\gamma Z_1 Z_2}e^{-i \\gamma Z_2 Z_3}e^{-i \\gamma Z_0 Z_3}.$$"
   ]
  },
  {
   "cell_type": "markdown",
   "metadata": {
    "id": "gWNW-ZAtuI3x"
   },
   "source": [
    "**Ejercicio 1:** Notando que la unitaria $U(H_B)$ corresponde a un producto de rotaciones en el eje $X$ sobre cada qubit, escriba una función que tome el párametro `beta` y entregue un circuito que implemente $U(H_B)$. Para esto, utilice la [compuerta](https://qiskit.org/documentation/stubs/qiskit.circuit.library.RXGate.html) `rx`."
   ]
  },
  {
   "cell_type": "code",
   "execution_count": null,
   "metadata": {
    "ExecuteTime": {
     "end_time": "2023-01-03T04:29:05.519655Z",
     "start_time": "2023-01-03T04:29:05.506582Z"
    },
    "colab": {
     "base_uri": "https://localhost:8080/"
    },
    "id": "t6yzQtjOqyUw",
    "outputId": "26c704f0-7c14-42c8-ffe9-fbbbec7821de"
   },
   "outputs": [],
   "source": [
    "# El número de qubits corresponde al número de nodos del grafo\n",
    "\n",
    "nqubits = len(G.nodes)\n",
    "nqubits"
   ]
  },
  {
   "cell_type": "code",
   "execution_count": null,
   "metadata": {
    "ExecuteTime": {
     "end_time": "2023-01-03T04:29:05.535583Z",
     "start_time": "2023-01-03T04:29:05.524584Z"
    },
    "id": "BN8-A2wucbCB"
   },
   "outputs": [],
   "source": [
    "# Aplique una compuerta rx sobre cada qubit (el primer argumento corresponde al ángulo y el segundo argumento corresponde al qubit)\n",
    "\n",
    "\n",
    "#def unitaria_HB(beta):\n",
    "    # Escriba su codigo aqui\n",
    "    \n",
    "    \n",
    "    \n",
    "# Solución\n",
    "    \n",
    "def unitaria_HB(beta):\n",
    "    qc_HB = QuantumCircuit(nqubits)\n",
    "    for i in range(0, nqubits):\n",
    "        qc_HB.rx(2 * beta, i)\n",
    "  \n",
    "    return qc_HB"
   ]
  },
  {
   "cell_type": "code",
   "execution_count": null,
   "metadata": {
    "ExecuteTime": {
     "end_time": "2023-01-03T04:29:06.156661Z",
     "start_time": "2023-01-03T04:29:05.538582Z"
    },
    "colab": {
     "base_uri": "https://localhost:8080/",
     "height": 231
    },
    "id": "RiSvXDA3vbWX",
    "outputId": "c6904da3-1a31-4ba4-d154-56241dda0999"
   },
   "outputs": [],
   "source": [
    "# Utilizaremos la función Parameter para asignar un parámetro arbitrario \"beta\"\n",
    "\n",
    "beta = Parameter('β')\n",
    "\n",
    "U_HB = unitaria_HB(beta)\n",
    "U_HB.draw('mpl')"
   ]
  },
  {
   "cell_type": "markdown",
   "metadata": {
    "id": "GUhsZWSQw4ue"
   },
   "source": [
    "**Ejercicio 2:** Notamos que la unitaria $U(H)$ esta compuesta de productos de unitarias del tipo \n",
    "$$U(\\theta) = e^{i \\theta Z \\otimes Z} = \\left( \\matrix{ e^{i \\theta} & 0 & 0 & 0 \\cr\n",
    "0 & e^{-i \\theta} & 0 & 0 \\cr\n",
    "0 & 0 & e^{-i \\theta} & 0 \\cr\n",
    "0 & 0 & 0 & e^{i \\theta} \\cr} \\right),$$\n",
    "\n",
    "las cuales pueden ser construidas usando la [compuerta](https://qiskit.org/documentation/stubs/qiskit.circuit.library.RZZGate.html) `rzz()` de qiskit. Defina una función que tome el párametro `beta` y entregue un circuito que implemente $U(H)$.\n",
    "\n",
    "**Observación**: Recuerde que la conectividad entre qubits debe ser igual que las aristas del grafo."
   ]
  },
  {
   "cell_type": "code",
   "execution_count": null,
   "metadata": {
    "ExecuteTime": {
     "end_time": "2023-01-03T04:29:06.172593Z",
     "start_time": "2023-01-03T04:29:06.159592Z"
    },
    "colab": {
     "base_uri": "https://localhost:8080/"
    },
    "id": "APz9-oqmT3tA",
    "outputId": "7b2823aa-d0c2-4281-8351-7efac4cd6c59"
   },
   "outputs": [],
   "source": [
    "# Aristas del grafo\n",
    "\n",
    "list(G.edges())"
   ]
  },
  {
   "cell_type": "code",
   "execution_count": null,
   "metadata": {
    "ExecuteTime": {
     "end_time": "2023-01-03T04:29:06.188590Z",
     "start_time": "2023-01-03T04:29:06.174590Z"
    },
    "id": "_Rut-J0HwkqC"
   },
   "outputs": [],
   "source": [
    "# Aplique una compuerta rzz sobre cada par de qubits de la lista anterior\n",
    "# El primer argumento corresponde al ángulo, el segundo argumento corresponde al qubit de control y el tercer corresponde al qubit objetivo\n",
    "\n",
    "#def unitaria_H(gamma):\n",
    "    # Escriba su código aquí\n",
    "\n",
    "# Solución\n",
    "\n",
    "def unitaria_H(gamma):\n",
    "    qc_H = QuantumCircuit(nqubits)\n",
    "    for pair in list(G.edges()):\n",
    "        qc_H.rzz(2 * gamma, pair[0], pair[1])\n",
    "\n",
    "    return qc_H\n",
    "\n",
    "\n",
    "def unitaria_H2(gamma):\n",
    "    qc_H = QuantumCircuit(nqubits)\n",
    "    \n",
    "    qc_H.rzz(2 * gamma, 0, 1)\n",
    "    qc_H.rzz(2 * gamma, 0, 3)\n",
    "    qc_H.rzz(2 * gamma, 1, 2)\n",
    "    qc_H.rzz(2 * gamma, 2, 3)\n",
    "\n",
    "    return qc_H"
   ]
  },
  {
   "cell_type": "code",
   "execution_count": null,
   "metadata": {
    "ExecuteTime": {
     "end_time": "2023-01-03T04:29:06.555590Z",
     "start_time": "2023-01-03T04:29:06.193593Z"
    },
    "colab": {
     "base_uri": "https://localhost:8080/",
     "height": 231
    },
    "id": "AekEL_12wlPU",
    "outputId": "395cf314-e0e7-4602-fc6d-199aef0d9cff"
   },
   "outputs": [],
   "source": [
    "gamma = Parameter('γ')\n",
    "\n",
    "U_H = unitaria_H(gamma)\n",
    "U_H.draw('mpl')"
   ]
  },
  {
   "cell_type": "markdown",
   "metadata": {
    "id": "Fl37AGnYVf1L"
   },
   "source": [
    "**Ejercicio 3:** Defina una función que construya el estado inicial $|+\\rangle^{\\otimes 4} = |+\\rangle|+\\rangle|+\\rangle|+\\rangle = \\bigg(\\frac{1}{\\sqrt{2}}\\big(\\lvert 0 \\rangle + \\lvert 1 \\rangle\\big)\\bigg)^{\\otimes 4}$."
   ]
  },
  {
   "cell_type": "code",
   "execution_count": null,
   "metadata": {
    "ExecuteTime": {
     "end_time": "2023-01-03T04:29:06.570591Z",
     "start_time": "2023-01-03T04:29:06.558590Z"
    },
    "id": "IFzs5QlbV_Cy"
   },
   "outputs": [],
   "source": [
    "# Aplique una compuerta Hadamard sobre cada qubit\n",
    "\n",
    "#def estado_inicial(nqubits=nqubits):\n",
    "    # Escriba su codigo aquí\n",
    "\n",
    "\n",
    "# Solución\n",
    "    \n",
    "def estado_inicial(nqubits=nqubits):\n",
    "    qc_ini = QuantumCircuit(nqubits)\n",
    "    for i in range(nqubits):\n",
    "        qc_ini.h(i)\n",
    "\n",
    "    return qc_ini"
   ]
  },
  {
   "cell_type": "code",
   "execution_count": null,
   "metadata": {
    "ExecuteTime": {
     "end_time": "2023-01-03T04:29:06.777591Z",
     "start_time": "2023-01-03T04:29:06.578590Z"
    },
    "colab": {
     "base_uri": "https://localhost:8080/",
     "height": 231
    },
    "id": "mDM349OWWLCn",
    "outputId": "48e825e1-bc95-4fc2-8892-0e203a6aeeb1"
   },
   "outputs": [],
   "source": [
    "estado_0 = estado_inicial()\n",
    "estado_0.draw('mpl')"
   ]
  },
  {
   "cell_type": "markdown",
   "metadata": {
    "id": "0rlwWDQLW6-n"
   },
   "source": [
    "Mediante las tres funciones definidas anteriormente, podemos construir un circuito que implemente el estado cuántico $|\\psi(\\boldsymbol{\\beta}, \\boldsymbol{\\gamma}) \\rangle$.\n",
    "\n",
    "**Ejercicio 4:** Construya una función que reciba como entrada el estado inicial $| \\psi_0 \\rangle$ y las unitarias $U(H)$ y $U(H_B)$, y entregue un circuito que implemente el estado cuántico $|\\psi(\\boldsymbol{\\beta}, \\boldsymbol{\\gamma}) \\rangle$."
   ]
  },
  {
   "cell_type": "code",
   "execution_count": null,
   "metadata": {
    "ExecuteTime": {
     "end_time": "2023-01-03T04:29:06.809601Z",
     "start_time": "2023-01-03T04:29:06.786590Z"
    },
    "id": "xYRRyGEYWeYn"
   },
   "outputs": [],
   "source": [
    "# Usando compose(), combine las tres funciones definidas anteriormente para implementar el estado psi\n",
    "\n",
    "#def circuito_QAOA(estado_0, U_H, U_HB):\n",
    "    # Escriba su código aquí\n",
    "    \n",
    "    \n",
    "    \n",
    "# Solución\n",
    "\n",
    "\n",
    "def circuito_QAOA(estado_0, U_H, U_HB):\n",
    "    qc_qaoa = QuantumCircuit(nqubits)\n",
    "    qc_qaoa.compose( estado_0, [i for i in range(0, nqubits)], inplace=True )\n",
    "    qc_qaoa.barrier()\n",
    "    qc_qaoa.compose( U_H, [i for i in range(0, nqubits)], inplace=True )\n",
    "    qc_qaoa.barrier()\n",
    "    qc_qaoa.compose( U_HB, [i for i in range(0, nqubits)], inplace=True )\n",
    "  \n",
    "    return qc_qaoa"
   ]
  },
  {
   "cell_type": "code",
   "execution_count": null,
   "metadata": {
    "ExecuteTime": {
     "end_time": "2023-01-03T04:29:07.623931Z",
     "start_time": "2023-01-03T04:29:06.813591Z"
    },
    "colab": {
     "base_uri": "https://localhost:8080/",
     "height": 231
    },
    "id": "vIt7jm1_Y-4H",
    "outputId": "2a04aaea-2d94-4691-d3a9-11ed59a6821c"
   },
   "outputs": [],
   "source": [
    "qc_qaoa = circuito_QAOA(estado_0, U_H, U_HB)\n",
    "\n",
    "qc_qaoa.decompose(reps=0).draw('mpl')"
   ]
  },
  {
   "cell_type": "markdown",
   "metadata": {
    "id": "dOx6OxH7Zwhq"
   },
   "source": [
    "Ahora que podemos construir el estado $|\\psi(\\boldsymbol{\\beta}, \\boldsymbol{\\gamma}) \\rangle$, debemos buscar una forma de calcular la función de coste\n",
    "\n",
    "\\begin{align}\n",
    "F_p(\\boldsymbol{\\gamma},\\boldsymbol{\\beta}) &= \\langle \\psi_p(\\boldsymbol{\\gamma},\\boldsymbol{\\beta})|H|\\psi_p(\\boldsymbol{\\gamma},\\boldsymbol{\\beta})\\rangle\\\\\\\\\n",
    "&= \\sum_{x \\in \\{0,1\\}^n} C(x) |\\langle x| \\psi_p(\\boldsymbol{\\gamma},\\boldsymbol{\\beta}) \\rangle |^2.\n",
    "\\end{align}\n",
    "y optimizar sobre los parámetros para encontrar la solución óptima $(\\boldsymbol{\\beta}_{opt}, \\boldsymbol{\\gamma}_{opt})$."
   ]
  },
  {
   "cell_type": "markdown",
   "metadata": {
    "id": "F83rKwc-eqVo"
   },
   "source": [
    "**Ejercicio 5:** Utilizando las funciones anteriores, construya una función que mida el circuito en la base compuitacional para obtener $|\\langle x| \\psi_p(\\boldsymbol{\\gamma},\\boldsymbol{\\beta}) \\rangle |^2$, usando el simulador de `Aer`.\n",
    "\n",
    "La función debe tener como entrada los ángulos $(\\boldsymbol{\\gamma},\\boldsymbol{\\beta})$ y el número de *shots* para simular $|\\langle x| \\psi_p(\\boldsymbol{\\gamma},\\boldsymbol{\\beta}) \\rangle |^2$, y debe entregar el número de cuentas asociadas a cada cadena de bits $x$."
   ]
  },
  {
   "cell_type": "code",
   "execution_count": null,
   "metadata": {
    "ExecuteTime": {
     "end_time": "2023-01-03T04:29:07.639931Z",
     "start_time": "2023-01-03T04:29:07.627930Z"
    },
    "id": "Qv9fLms4eqt1"
   },
   "outputs": [],
   "source": [
    "# Para resolver este ejercicio, debe realizar los siguientes pasos \n",
    "# (si no recuerda bien como aplicar algun paso, puede revisar el taller anterior)\n",
    "\n",
    "# - Defina un backend usando Aer.get_backend('aer_simulator')\n",
    "# - Defina las unitarias U(H) y U(H_B), que dependen de gamma y beta respectivamente\n",
    "# - Cree un circuito usando la función definida en el ejercicio anterior y MIDA\n",
    "# - Transpile su circuito mediante la función transpile(qc, backend) \n",
    "# - Ejecute el circuito, usando la función backend.run(qc, shots=shots).result()\n",
    "# - Obtenga las cuentas aplicando el método .get_counts() sobre el resultado anterior\n",
    "\n",
    "\n",
    "#def medicion(gamma, beta, shots):\n",
    "    # Escriba su código aquí\n",
    "    \n",
    "    \n",
    "    \n",
    "def medicion(gamma, beta, shots):\n",
    "\n",
    "    backend = Aer.get_backend('aer_simulator')\n",
    "\n",
    "    UH = unitaria_H(gamma)\n",
    "    UHB = unitaria_HB(beta)\n",
    "\n",
    "    qc_qaoa = circuito_QAOA(estado_0, UH, UHB)\n",
    "    qc_qaoa.measure_all()\n",
    "\n",
    "    qc_qaoa = transpile(qc_qaoa, backend)\n",
    "\n",
    "    result = backend.run(qc_qaoa, shots=shots).result()\n",
    "    counts = result.get_counts()\n",
    "\n",
    "    return counts"
   ]
  },
  {
   "cell_type": "markdown",
   "metadata": {},
   "source": [
    "Si tomamos por ejemplo los ángulos $\\boldsymbol{\\gamma} = \\boldsymbol{\\beta} = 10$, obtenemos las siguientes cuentas"
   ]
  },
  {
   "cell_type": "code",
   "execution_count": null,
   "metadata": {},
   "outputs": [],
   "source": [
    "medicion(gamma=10, beta=10, shots=100)"
   ]
  },
  {
   "cell_type": "markdown",
   "metadata": {
    "id": "OXCSQEdEjWEH"
   },
   "source": [
    "Dada una cadena de bits como posible solución, necesitamos una función que entregue el número de aristas que es compartida por ambas particiones del gráfico $C(x)$. Esto lo podemos lograr con la siguiente función:"
   ]
  },
  {
   "cell_type": "code",
   "execution_count": null,
   "metadata": {
    "ExecuteTime": {
     "end_time": "2023-01-03T04:29:07.655930Z",
     "start_time": "2023-01-03T04:29:07.642930Z"
    },
    "id": "d_8GAFuybptV"
   },
   "outputs": [],
   "source": [
    "def maxcut_obj(x, G):\n",
    "    obj = 0\n",
    "    for i, j in G.edges():\n",
    "        if x[i] != x[j]:\n",
    "            obj -= 1\n",
    "            \n",
    "    return obj"
   ]
  },
  {
   "cell_type": "markdown",
   "metadata": {
    "id": "DDtXyg_EkfoN"
   },
   "source": [
    "Por ejemplo, si tomamos la cadena de bits '$1000$' (primer nodo azul y el resto rojo), entonces hay 2 aristas que son compartidas por ambas particiones.\n"
   ]
  },
  {
   "cell_type": "code",
   "execution_count": null,
   "metadata": {
    "ExecuteTime": {
     "end_time": "2023-01-03T04:29:07.671932Z",
     "start_time": "2023-01-03T04:29:07.659931Z"
    },
    "colab": {
     "base_uri": "https://localhost:8080/"
    },
    "id": "9XWDxVmijlg1",
    "outputId": "35c43cac-e7c4-47a0-a84f-c3c2731856de"
   },
   "outputs": [],
   "source": [
    "# El resultado es negativo, ya que más adelante usaremos una función de minimización en vez de maximización\n",
    "\n",
    "maxcut_obj('1000', G)"
   ]
  },
  {
   "cell_type": "markdown",
   "metadata": {
    "id": "lEyfAW-Ljk_6"
   },
   "source": [
    "Finalmente, necesitamos realizar post-procesamiento para determinar la función de coste $F_p(\\boldsymbol{\\gamma},\\boldsymbol{\\beta})$ a partir de los resultados de medición."
   ]
  },
  {
   "cell_type": "code",
   "execution_count": null,
   "metadata": {
    "ExecuteTime": {
     "end_time": "2023-01-03T04:29:07.687935Z",
     "start_time": "2023-01-03T04:29:07.674930Z"
    },
    "id": "Spq1hPf7bpmN"
   },
   "outputs": [],
   "source": [
    "def funcion_coste(counts, G):\n",
    "    avg = 0\n",
    "    sum_count = 0\n",
    "    for bitstring, count in counts.items():\n",
    "\n",
    "        obj = maxcut_obj(bitstring[::-1], G)     # calcula C(x) para una cadena de bits x y grafo G, \n",
    "                                                 # el indexado [::-1] invierte el orden de los bits\n",
    "        avg += obj * count                       # calcula  Σ_x C(x) * |< x | psi >|ˆ2\n",
    "        sum_count += count\n",
    "\n",
    "    return avg/sum_count                         # promedia por el número de cuentas (normalizar)"
   ]
  },
  {
   "cell_type": "markdown",
   "metadata": {
    "id": "YWYnOXuUoYLH"
   },
   "source": [
    "Considerando nuevamente los ángulos $\\boldsymbol{\\gamma} = \\boldsymbol{\\beta} = 10$, obtenemos el siguiente valor de la función de costo."
   ]
  },
  {
   "cell_type": "code",
   "execution_count": null,
   "metadata": {
    "ExecuteTime": {
     "end_time": "2023-01-03T04:29:08.739973Z",
     "start_time": "2023-01-03T04:29:07.690929Z"
    },
    "colab": {
     "base_uri": "https://localhost:8080/"
    },
    "id": "kYgD-gyKlglF",
    "outputId": "9c7c94b8-5486-4546-d309-8370cfc7e613"
   },
   "outputs": [],
   "source": [
    "counts_ej = medicion(gamma=10, beta=10, shots=100)\n",
    "\n",
    "funcion_coste(counts_ej, G)"
   ]
  },
  {
   "cell_type": "markdown",
   "metadata": {
    "id": "LOWvyd40pTbs"
   },
   "source": [
    "**Ejercicio 6:** A partir de las funciones anteriores, construya una función que reciba los párametros de optimización $\\boldsymbol{\\theta} = (\\boldsymbol{\\gamma}, \\boldsymbol{\\beta})$, el número de shots y el grafo $G$, y entregue el valor de la función de costo.\n",
    "\n",
    "Observación: $\\boldsymbol{\\theta}$ corresponde a una lista, donde el primer término es $\\boldsymbol{\\gamma}$ y el segundo término es $\\boldsymbol{\\beta}$."
   ]
  },
  {
   "cell_type": "code",
   "execution_count": null,
   "metadata": {
    "ExecuteTime": {
     "end_time": "2023-01-03T04:29:08.755973Z",
     "start_time": "2023-01-03T04:29:08.744973Z"
    },
    "id": "F7NlY4W9q6bp"
   },
   "outputs": [],
   "source": [
    "# Para este ejercicio debe utilizar las funciones definidas anteriormente\n",
    "# Note que theta tiene dos elementos, tal que gamma = theta[0] y beta = theta[1]\n",
    "\n",
    "#def algoritmo_QAOA(theta, G, shots):\n",
    "    # Escriba su código aquí\n",
    "    \n",
    "    \n",
    "# Solución\n",
    "\n",
    "def algoritmo_QAOA(theta, G, shots):\n",
    "\n",
    "    gamma = theta[0]\n",
    "    beta = theta[1]\n",
    "\n",
    "    counts = medicion(gamma, beta, shots)\n",
    "    coste = funcion_coste(counts, G)\n",
    "    \n",
    "    return coste"
   ]
  },
  {
   "cell_type": "markdown",
   "metadata": {},
   "source": [
    "Podemos utilizar la función `minimize` del paquete `scipy` para llevar a cabo el proceso de optimización y encontrar los párametros óptimos, es decir, aquellos que minimizan la energía."
   ]
  },
  {
   "cell_type": "code",
   "execution_count": null,
   "metadata": {
    "ExecuteTime": {
     "end_time": "2023-01-03T04:29:10.559197Z",
     "start_time": "2023-01-03T04:29:08.762990Z"
    },
    "colab": {
     "base_uri": "https://localhost:8080/"
    },
    "id": "sO3rz4Gbcxyc",
    "outputId": "ce80168b-fbca-4c3b-ccb9-14c5c9120380"
   },
   "outputs": [],
   "source": [
    "from scipy.optimize import minimize\n",
    "\n",
    "shots = 8192\n",
    "\n",
    "\n",
    "# la función minimize recibe una función que tenga un solo argumento,\n",
    "# por lo que utilizamos una función lambda para que dependa sólo de los parámetros\n",
    "\n",
    "costo_QAOA = lambda theta: algoritmo_QAOA(theta, G=G, shots=shots)\n",
    "\n",
    "theta_ini = [1.0, 1.0]\n",
    "\n",
    "# utilizamos el método de optimización COBYLA\n",
    "\n",
    "results = minimize(costo_QAOA, theta_ini, method='COBYLA')\n",
    "\n",
    "# Reultados de Optimización\n",
    "\n",
    "results"
   ]
  },
  {
   "cell_type": "code",
   "execution_count": null,
   "metadata": {
    "ExecuteTime": {
     "end_time": "2023-01-03T04:29:10.575193Z",
     "start_time": "2023-01-03T04:29:10.563193Z"
    },
    "colab": {
     "base_uri": "https://localhost:8080/"
    },
    "id": "EvYEHFfaEJGz",
    "outputId": "57aac212-8f47-4eec-e48f-8d5b99847975"
   },
   "outputs": [],
   "source": [
    "# Parámetros óptimos\n",
    "\n",
    "results.x"
   ]
  },
  {
   "cell_type": "markdown",
   "metadata": {
    "id": "dJ1iInLvD-fq"
   },
   "source": [
    "**Ejercicio 7:** Grafique las cuentas obtenidas al ejecutar el circuito con los parámetros óptimos utilizando $8192$ *shots*"
   ]
  },
  {
   "cell_type": "code",
   "execution_count": null,
   "metadata": {
    "ExecuteTime": {
     "end_time": "2023-01-03T04:29:57.540638Z",
     "start_time": "2023-01-03T04:29:57.133659Z"
    },
    "colab": {
     "base_uri": "https://localhost:8080/",
     "height": 348
    },
    "id": "5p4-7bePc6Xs",
    "outputId": "2bb71b6d-2753-4520-c41e-b57ade4e9bc1"
   },
   "outputs": [],
   "source": [
    "# Utilice la función medicion, usando el resultado anterior como argumentos\n",
    "# Luego, realice un grafico de las cuentas\n",
    "\n",
    "\n",
    "# Solución\n",
    "\n",
    "counts = medicion(results.x[0], results.x[1], shots)\n",
    "plot_histogram(counts)"
   ]
  },
  {
   "cell_type": "markdown",
   "metadata": {
    "id": "P_NvzpA2rm6w"
   },
   "source": [
    "Notamos que obtenemos con una alta probabilidad los resultados correctos. Podemos condensar las funciones de los ejercicios anteriores en una sola rutina que realice la optimización para cualquier grafo, y además agregar la opción de considerar un mayor número de repeticiones ($p$)."
   ]
  },
  {
   "cell_type": "code",
   "execution_count": null,
   "metadata": {
    "ExecuteTime": {
     "end_time": "2023-01-03T04:30:01.137610Z",
     "start_time": "2023-01-03T04:30:01.117540Z"
    },
    "id": "Whkn1FnPrmNq"
   },
   "outputs": [],
   "source": [
    "def circuito_QAOA_gen(G, theta):\n",
    "    \n",
    "    nqubits = len(G.nodes())             # número de qubits\n",
    "    p = len(theta)//2                    # p bloques alternantes según el tamaño de theta\n",
    "    qc = QuantumCircuit(nqubits)\n",
    "    \n",
    "    beta = theta[:p]                     # parámetros beta\n",
    "    gamma = theta[p:]                    # parámetros gamma\n",
    "    \n",
    "    # estado inicial |+>\n",
    "\n",
    "    for i in range(0, nqubits):\n",
    "        qc.h(i)\n",
    "    \n",
    "    for irep in range(0, p):\n",
    "        \n",
    "        # unitaria del problema\n",
    "        for pair in list(G.edges()):\n",
    "            qc.rzz(2 * gamma[irep], pair[0], pair[1])\n",
    "\n",
    "        # unitaria de mezcla\n",
    "        for i in range(0, nqubits):\n",
    "            qc.rx(2 * beta[irep], i)\n",
    "            \n",
    "    qc.measure_all()\n",
    "    return qc\n",
    "\n",
    "\n",
    "def algoritmo_QAOA_gen(G, shots):\n",
    "    \n",
    "    backend = Aer.get_backend('qasm_simulator')\n",
    "    backend.shots = shots\n",
    "    \n",
    "    def ejecutar_circuito(theta):\n",
    "        \n",
    "        qc = circuito_QAOA_gen(G, theta)\n",
    "        counts = backend.run(qc, shots=shots).result().get_counts()\n",
    "        \n",
    "        return funcion_coste(counts, G)\n",
    "    \n",
    "    return ejecutar_circuito"
   ]
  },
  {
   "cell_type": "markdown",
   "metadata": {},
   "source": [
    "A continuación, usaremos la función `random_regular_graph` de `networkx` para generar un grafo aleatorio con el cuál probar nuestro código."
   ]
  },
  {
   "cell_type": "code",
   "execution_count": null,
   "metadata": {},
   "outputs": [],
   "source": [
    "n = 6     # número de nodos\n",
    "d = 3     # número de aristas por nodo\n",
    "\n",
    "Gn = nx.random_regular_graph(d, n, seed=100)\n",
    "pos = nx.spring_layout(Gn)\n",
    "nx.draw(Gn, with_labels=True, alpha=0.8, node_size=500, pos=pos, nodelist=range(n))"
   ]
  },
  {
   "cell_type": "markdown",
   "metadata": {},
   "source": [
    "Creamos una función que resuelva el problema mediante fuerza bruta para comparar la calidad de nuestra solución obtenida mediante QAOA."
   ]
  },
  {
   "cell_type": "code",
   "execution_count": null,
   "metadata": {},
   "outputs": [],
   "source": [
    "def fuerza_bruta(Gn):\n",
    "    Gn_bf = Gn\n",
    "    nx.set_edge_attributes(Gn_bf, values = 1, name = 'weight')\n",
    "    n = Gn_bf.number_of_nodes()\n",
    "    \n",
    "    w = np.zeros([n, n])\n",
    "    for i in range(n):\n",
    "        for j in range(n):\n",
    "            temp = Gn_bf.get_edge_data(i, j, default=0)\n",
    "            if temp != 0:\n",
    "                w[i, j] = temp[\"weight\"]\n",
    "    \n",
    "    best_cost_brute = 0\n",
    "    solutions = dict()\n",
    "    \n",
    "    for b in range(2**n):\n",
    "        string = bin(b)[2:].zfill(n)\n",
    "        x = [int(t) for t in reversed(list(string))]\n",
    "        cost = 0\n",
    "        for i in range(n):\n",
    "            for j in range(n):\n",
    "                cost = cost + w[i, j] * x[i] * (1 - x[j])\n",
    "        solutions[string] = cost\n",
    "    \n",
    "    max_cost = max(solutions.values())\n",
    "    best_solutions = [k for k,v in solutions.items() if v == max_cost]\n",
    "    \n",
    "    sol_vectors = []\n",
    "    for i in range(len(best_solutions)):\n",
    "        sol_vector_i = [int(t) for t in list(best_solutions[i])]\n",
    "        sol_vectors.append(sol_vector_i)\n",
    "        \n",
    "    print('Mejor coste = ' +str(max_cost))\n",
    "    print(best_solutions)\n",
    "    \n",
    "    return sol_vectors"
   ]
  },
  {
   "cell_type": "code",
   "execution_count": null,
   "metadata": {},
   "outputs": [],
   "source": [
    "# Función para dibujar la solución del grafo\n",
    "\n",
    "def draw_graph(G, solution_vector):\n",
    "    default_axes = plt.axes(frameon=True)\n",
    "    n = len(G.nodes)\n",
    "    colors = [\"r\" if solution_vector[i] == 0 else \"c\" for i in range(n)]\n",
    "    pos = nx.spring_layout(G)\n",
    "    nx.draw_networkx(G, node_color=colors, node_size=500, alpha=0.8, ax=default_axes, pos=pos, nodelist=range(n))"
   ]
  },
  {
   "cell_type": "code",
   "execution_count": null,
   "metadata": {},
   "outputs": [],
   "source": [
    "# solucion mediante fuerza bruta\n",
    "\n",
    "solution_fb = fuerza_bruta(Gn)\n",
    "draw_graph(Gn, solution_fb[0])"
   ]
  },
  {
   "cell_type": "code",
   "execution_count": null,
   "metadata": {
    "ExecuteTime": {
     "end_time": "2023-01-03T04:30:05.997552Z",
     "start_time": "2023-01-03T04:30:01.982354Z"
    },
    "colab": {
     "base_uri": "https://localhost:8080/"
    },
    "id": "g6vGySBErmDg",
    "outputId": "13feedde-3536-4927-ac57-7ef925aaf9fa"
   },
   "outputs": [],
   "source": [
    "# Resolvemos el problema de MAXCUT mediante nuestra rutina\n",
    "\n",
    "shots = 10000\n",
    "costo_QAOA = algoritmo_QAOA_gen(Gn, shots)\n",
    "\n",
    "# número de bloques p\n",
    "\n",
    "# p = 1\n",
    "p = 8\n",
    "\n",
    "theta_ini = [1.0, 1.0]*p\n",
    "\n",
    "\n",
    "results = minimize(costo_QAOA, theta_ini, method='COBYLA')\n",
    "results"
   ]
  },
  {
   "cell_type": "code",
   "execution_count": null,
   "metadata": {
    "ExecuteTime": {
     "end_time": "2023-01-03T04:30:07.686398Z",
     "start_time": "2023-01-03T04:30:07.346035Z"
    },
    "colab": {
     "base_uri": "https://localhost:8080/",
     "height": 356
    },
    "id": "kHM7QYbusBg5",
    "outputId": "f2b58032-9402-42d3-9246-d82b566a6317"
   },
   "outputs": [],
   "source": [
    "backend = Aer.get_backend('aer_simulator')\n",
    "qc_res = circuito_QAOA_gen(Gn, results.x)\n",
    "counts = backend.run(qc_res, shots=shots).result().get_counts()\n",
    "\n",
    "# ploteamos solamente las cadenas de bits con mayor número de cuentas\n",
    "\n",
    "plot_histogram(counts, figsize=(10, 5), number_to_keep=15, sort='value_desc')  "
   ]
  },
  {
   "cell_type": "markdown",
   "metadata": {},
   "source": [
    "En caso de tener un gráfo de mayor complejidad, podemos aumentar el valor de $p$ para obtener un resultado de mejor calidad, pero con la desventaja de aumentar la profundidad del circuito."
   ]
  },
  {
   "cell_type": "code",
   "execution_count": null,
   "metadata": {
    "ExecuteTime": {
     "end_time": "2023-01-03T04:30:12.866195Z",
     "start_time": "2023-01-03T04:30:11.818965Z"
    },
    "tags": []
   },
   "outputs": [],
   "source": [
    "print(circuito_QAOA_gen(Gn, theta_ini).depth())\n",
    "circuito_QAOA_gen(Gn, theta_ini).draw('mpl')"
   ]
  },
  {
   "cell_type": "markdown",
   "metadata": {},
   "source": [
    "Los ejercicios anteriores nos permitieron implementar QAOA para el problema de $MAXCUT$ de forma artesanal. Sin embargo, Qiskit cuenta con herramientas que permiten crear una instancia `Maxcut`, lo cuál permite resolver directamente el problema con la clase `QAOA` del paquete `qiskit.algorithms`."
   ]
  },
  {
   "cell_type": "code",
   "execution_count": null,
   "metadata": {},
   "outputs": [],
   "source": [
    "# Primero importamos los paquetes y funciones necesarias\n",
    "\n",
    "from qiskit_optimization.applications import Maxcut\n",
    "from qiskit_optimization.problems import QuadraticProgram\n",
    "from qiskit_optimization.converters import QuadraticProgramToQubo\n",
    "from qiskit.algorithms.eigensolvers import NumPyEigensolver\n",
    "from qiskit.algorithms.minimum_eigensolvers import QAOA"
   ]
  },
  {
   "cell_type": "code",
   "execution_count": null,
   "metadata": {},
   "outputs": [],
   "source": [
    "n = 7     # número de nodos\n",
    "d = 4     # número de aristas por nodo\n",
    "\n",
    "Gn = nx.random_regular_graph(d, n, seed=6)\n",
    "\n",
    "nx.draw(Gn, with_labels=True, alpha=0.8, node_size=500, pos = nx.spring_layout(Gn))"
   ]
  },
  {
   "cell_type": "code",
   "execution_count": null,
   "metadata": {},
   "outputs": [],
   "source": [
    "# solucion mediante fuerza bruta\n",
    "\n",
    "solution_fb = fuerza_bruta(Gn)\n",
    "draw_graph(Gn, solution_fb[0])"
   ]
  },
  {
   "cell_type": "markdown",
   "metadata": {},
   "source": [
    "Para resolver el problema de optimización, primero es necesario definir una instancia $MAXCUT$ y convertir el problema en un programa cuadrático. Dicho programa expresa el problema de optimización como una función objetivo cuadrática, utilizando $n$ variables binarias $x_{i,j}$ (variables que toman los valores $0$ o $1$), donde $n$ es el número de nodos."
   ]
  },
  {
   "cell_type": "code",
   "execution_count": null,
   "metadata": {},
   "outputs": [],
   "source": [
    "# Creamos una instancia Maxcut a partir del grafo, y lo convertimos en un programa cuadrático\n",
    "\n",
    "max_cut = Maxcut(Gn)\n",
    "qp = max_cut.to_quadratic_program()\n",
    "print(qp.prettyprint())"
   ]
  },
  {
   "cell_type": "markdown",
   "metadata": {},
   "source": [
    "Para resolver el problema de $MAXCUT$, debemos convertir el programa cuadrático en un problema sobre el cuál pueda trabajar el computador cuantico. Para esto, convertimos el problema cuadrático en un QUBO (*Quadratic Unconstrained Binary Optimization*), a partir del cual podemos obtener un Hamiltoniano de Ising, el cual permite representar nuestro problema de tal forma que el estado de minima energía represente la solución del problema de optimización."
   ]
  },
  {
   "cell_type": "code",
   "execution_count": null,
   "metadata": {},
   "outputs": [],
   "source": [
    "qp2qubo = QuadraticProgramToQubo()           # Creamos una instancia de la clase QUBO\n",
    "qubo = qp2qubo.convert(qp)                   # Convertimos el programa cuadrático en un QUBO\n",
    "qubitOp, offset = qubo.to_ising()            # Convertimos el QUBO en un Hamiltoniano de Ising\n",
    "\n",
    "print(\"Offset:\", offset)\n",
    "print(\"Hamiltoniano de Ising:\")\n",
    "print(str(qubitOp))"
   ]
  },
  {
   "cell_type": "markdown",
   "metadata": {},
   "source": [
    "Para verificar que este Hamiltoniano nos permita encontrar la solución del problema, podemos obtendremos el autovalor de mínima energía del Hamiltoniano mediante un cálculo exacto usando la rutina clásica `NumpyEigensolver`. Notamos que existen distintas soluciones posibles al problema de $MAXCUT$, por lo que buscaremos los $k$ autovalores de mínima energa.\n",
    "\n",
    "\n",
    "Observación: Esta rutina no es eficiente en el número de qubits, por lo que solo funciona para un número bajo de qubits (por eso estamos interesados en resolver el problema usando un computador cuántico!)."
   ]
  },
  {
   "cell_type": "code",
   "execution_count": null,
   "metadata": {},
   "outputs": [],
   "source": [
    "# Variamos el valor de k dependiendo de que tan degenerado es el autoestado de mínima energía\n",
    "\n",
    "k = 2\n",
    "exact = NumPyEigensolver(k=k)\n",
    "result = exact.compute_eigenvalues(qubitOp)\n",
    "print(result.eigenvalues.real)"
   ]
  },
  {
   "cell_type": "code",
   "execution_count": null,
   "metadata": {},
   "outputs": [],
   "source": [
    "# A partir del autoestado, obtenemos el vector que representa la solución del problema de Maxcut usando la función sample_most_likely\n",
    "\n",
    "solution_vectors = []\n",
    "\n",
    "for i in range(k):\n",
    "    result_bitstring = max_cut.sample_most_likely(result.eigenstates[i].data)\n",
    "    solution_vectors.append(result_bitstring)\n",
    "    print(result_bitstring)"
   ]
  },
  {
   "cell_type": "code",
   "execution_count": null,
   "metadata": {},
   "outputs": [],
   "source": [
    "draw_graph(Gn, solution_vectors[0])"
   ]
  },
  {
   "cell_type": "markdown",
   "metadata": {},
   "source": [
    "**Ejercicio 8 (Tarea):** Utilizando la [rutina](https://qiskit.org/documentation/stubs/qiskit.algorithms.minimum_eigensolvers.QAOA.html) `QAOA` de qiskit, obtenga la mejor solución que pueda del problema de $MAXCUT$ para el grafo definido anteriormente. Esta función tiene las siguientes entradas (tiene más, pero nos concentraremos en estas):\n",
    "\n",
    "- Un `Sampler`, el cuál muestrea nuestro circuito para obtener las cuentas al ejecutar el circuito en forma de cuasi-distribuciones. Para especificar el número de shots, se utiliza el argumento `options = {'shots': shots}`.\n",
    "\n",
    "- Un [optimizador clásico](https://qiskit.org/documentation/stubs/qiskit.algorithms.optimizers.html#local-optimizers) (`optimizer`).\n",
    "\n",
    "- El número de bloques alternantes (`reps`).\n",
    "\n",
    "- El estado inicial (`initial_state`).\n",
    "\n",
    "Observación: Para obtener el resultado, utilice el método `QAOA.compute_minimum_eigenvalue(qubitOp)`.\n",
    "\n",
    "Puede modificar el número de nodos `n` y el número de aristas por nodo `d` para probar distintos grafos!"
   ]
  },
  {
   "cell_type": "code",
   "execution_count": null,
   "metadata": {},
   "outputs": [],
   "source": [
    "# Exportamos los paquetes necesarios\n",
    "\n",
    "from qiskit.algorithms.optimizers import *\n",
    "from qiskit.primitives import Sampler\n",
    "\n",
    "\n",
    "# Definimos el estado inicial\n",
    "\n",
    "qc_ini = estado_inicial(n)\n",
    "\n",
    "\n",
    "# Definimos el Sampler con un cierto número de shots\n",
    "\n",
    "shots = 10000                                        # puede variar este número a gusto\n",
    "sampler = Sampler(options = {'shots': shots})\n",
    "\n",
    "\n",
    "# Definimos el optimizador clásico (usando ciertos parámetros) y el número de repeticiones\n",
    "\n",
    "\n",
    "# Solución\n",
    "\n",
    "\n",
    "# Definimos el numero de repeticiones p\n",
    "\n",
    "reps = 20\n",
    "\n",
    "# Definimos el optimizador clásico\n",
    "optimizer = COBYLA()"
   ]
  },
  {
   "cell_type": "code",
   "execution_count": null,
   "metadata": {},
   "outputs": [],
   "source": [
    "qaoa = QAOA(sampler=sampler, optimizer=optimizer, reps=reps, initial_state=qc_ini)\n",
    "result_qaoa = qaoa.compute_minimum_eigenvalue(qubitOp)"
   ]
  },
  {
   "cell_type": "code",
   "execution_count": null,
   "metadata": {},
   "outputs": [],
   "source": [
    "# Coste encontrado\n",
    "\n",
    "result_qaoa.eigenvalue"
   ]
  },
  {
   "cell_type": "code",
   "execution_count": null,
   "metadata": {},
   "outputs": [],
   "source": [
    "# Grafico de las cuasi-probabilidades\n",
    "\n",
    "plot_histogram(result_qaoa.eigenstate, figsize=(10, 5), number_to_keep=15, sort='value_desc')"
   ]
  },
  {
   "cell_type": "markdown",
   "metadata": {},
   "source": [
    "La rutina de QAOA de qiskit entrega tanto el autovalor de mínima energía del Hamiltoniano de Ising junto a su correspondiente autoestado  como una cuasi-distribución de probabilidad. Para interpretar dicho resultado, transformaremos el autoestado a una lista que representa el vector solución del problema."
   ]
  },
  {
   "cell_type": "code",
   "execution_count": null,
   "metadata": {},
   "outputs": [],
   "source": [
    "from qiskit.result import QuasiDistribution\n",
    "from qiskit.quantum_info import Statevector\n",
    "from __future__ import annotations\n",
    "\n",
    "def bitfield(n: int, L: int) -> list[int]:\n",
    "    result = np.binary_repr(n, L)\n",
    "    return [int(digit) for digit in result]\n",
    "\n",
    "def sample_most_likely(state_vector: QuasiDistribution | Statevector) -> np.ndarray:\n",
    " \n",
    "    if isinstance(state_vector, QuasiDistribution):\n",
    "        values = list(state_vector.values())\n",
    "    else:\n",
    "        values = state_vector\n",
    "    n = int(np.log2(len(values)))\n",
    "    k = np.argmax(np.abs(values))\n",
    "    x = bitfield(k, n)\n",
    "    x.reverse()\n",
    "    return np.asarray(x)"
   ]
  },
  {
   "cell_type": "code",
   "execution_count": null,
   "metadata": {},
   "outputs": [],
   "source": [
    "sol_opt_qaoa = sample_most_likely(result_qaoa.eigenstate)\n",
    "sol_opt_qaoa"
   ]
  },
  {
   "cell_type": "code",
   "execution_count": null,
   "metadata": {},
   "outputs": [],
   "source": [
    "draw_graph(Gn, sol_opt_qaoa)"
   ]
  },
  {
   "cell_type": "markdown",
   "metadata": {},
   "source": [
    "# Referencias\n",
    "\n",
    "[[1]](https://arxiv.org/abs/1411.4028) Farhi, Edward, Jeffrey Goldstone, and Sam Gutmann. \"A quantum approximate optimization algorithm.\" arXiv preprint arXiv:1411.4028 (2014).\n",
    "\n",
    "[Qiskit Textbook Chapter 4](https://qiskit.org/textbook/ch-applications/qaoa.html)\n",
    "\n",
    "[Qiskit Tutorial 05](https://qiskit.org/documentation/tutorials/algorithms/05_qaoa.html)\n",
    "\n",
    "[Qiskit Optimization Tutorial 06](https://qiskit.org/documentation/optimization/tutorials/06_examples_max_cut_and_tsp.html)"
   ]
  },
  {
   "cell_type": "code",
   "execution_count": null,
   "metadata": {
    "ExecuteTime": {
     "start_time": "2023-01-03T03:35:51.772Z"
    }
   },
   "outputs": [],
   "source": [
    "import qiskit.tools.jupyter\n",
    "%qiskit_version_table"
   ]
  }
 ],
 "metadata": {
  "colab": {
   "provenance": []
  },
  "hide_input": false,
  "kernelspec": {
   "display_name": "Python 3 (ipykernel)",
   "language": "python",
   "name": "python3"
  },
  "language_info": {
   "codemirror_mode": {
    "name": "ipython",
    "version": 3
   },
   "file_extension": ".py",
   "mimetype": "text/x-python",
   "name": "python",
   "nbconvert_exporter": "python",
   "pygments_lexer": "ipython3",
   "version": "3.8.13"
  },
  "varInspector": {
   "cols": {
    "lenName": 16,
    "lenType": 16,
    "lenVar": 40
   },
   "kernels_config": {
    "python": {
     "delete_cmd_postfix": "",
     "delete_cmd_prefix": "del ",
     "library": "var_list.py",
     "varRefreshCmd": "print(var_dic_list())"
    },
    "r": {
     "delete_cmd_postfix": ") ",
     "delete_cmd_prefix": "rm(",
     "library": "var_list.r",
     "varRefreshCmd": "cat(var_dic_list()) "
    }
   },
   "types_to_exclude": [
    "module",
    "function",
    "builtin_function_or_method",
    "instance",
    "_Feature"
   ],
   "window_display": false
  },
  "widgets": {
   "application/vnd.jupyter.widget-state+json": {
    "state": {
     "044571781a054f69ab5c27682652a545": {
      "model_module": "@jupyter-widgets/controls",
      "model_module_version": "1.5.0",
      "model_name": "DescriptionStyleModel",
      "state": {
       "description_width": ""
      }
     },
     "0b69169d40a84f3194be67b531b07027": {
      "model_module": "@jupyter-widgets/base",
      "model_module_version": "1.2.0",
      "model_name": "LayoutModel",
      "state": {
       "margin": "0px 0px 10px 0px"
      }
     },
     "0d2f68854d864247b861efd9f7586686": {
      "model_module": "@jupyter-widgets/controls",
      "model_module_version": "1.5.0",
      "model_name": "DescriptionStyleModel",
      "state": {
       "description_width": ""
      }
     },
     "0e1167b4aec04c73b8745e3e7f13327d": {
      "model_module": "@jupyter-widgets/base",
      "model_module_version": "1.2.0",
      "model_name": "LayoutModel",
      "state": {}
     },
     "12e1f9e0309943f08b4a42eb9004ae37": {
      "model_module": "@jupyter-widgets/controls",
      "model_module_version": "1.5.0",
      "model_name": "HTMLModel",
      "state": {
       "layout": "IPY_MODEL_0e1167b4aec04c73b8745e3e7f13327d",
       "style": "IPY_MODEL_a80ac8a336f642d8af6c7cf3d59ecbf2",
       "value": "<h5>Message</h5>"
      }
     },
     "1408f5b6d02e4b5aae06a761ff8749b6": {
      "model_module": "@jupyter-widgets/controls",
      "model_module_version": "1.5.0",
      "model_name": "HTMLModel",
      "state": {
       "layout": "IPY_MODEL_fe4db5f9757f453d8cd728c8e7d9713b",
       "style": "IPY_MODEL_9eb95715dc464fe696ee4569bee444ad",
       "value": "<h5>Status</h5>"
      }
     },
     "19cd43de6ad34a44a2ba720958647a7c": {
      "model_module": "@jupyter-widgets/controls",
      "model_module_version": "1.5.0",
      "model_name": "GridBoxModel",
      "state": {
       "children": [
        "IPY_MODEL_f0da33fbd36a4f19a7656435ad097469"
       ],
       "layout": "IPY_MODEL_ffcdb13dcd37469094d36348f45b53d9"
      }
     },
     "214bfe8ac4194c1f870e9e997523b6d0": {
      "model_module": "@jupyter-widgets/controls",
      "model_module_version": "1.5.0",
      "model_name": "HTMLModel",
      "state": {
       "layout": "IPY_MODEL_89a7d5ee293949f586e9cdeccc3d4937",
       "style": "IPY_MODEL_6d2396d504d7425390a1530f2c554bb0",
       "value": "<h5>Job ID</h5>"
      }
     },
     "2524e8338974495ca25195c9399fd60a": {
      "model_module": "@jupyter-widgets/base",
      "model_module_version": "1.2.0",
      "model_name": "LayoutModel",
      "state": {
       "width": "145px"
      }
     },
     "3cde5e4b3eba4353be7808ccbb7c6101": {
      "model_module": "@jupyter-widgets/base",
      "model_module_version": "1.2.0",
      "model_name": "LayoutModel",
      "state": {
       "margin": "0px 0px 0px 37px",
       "width": "600px"
      }
     },
     "6d2396d504d7425390a1530f2c554bb0": {
      "model_module": "@jupyter-widgets/controls",
      "model_module_version": "1.5.0",
      "model_name": "DescriptionStyleModel",
      "state": {
       "description_width": ""
      }
     },
     "79795e1394aa4c9a8c852b587c98b12a": {
      "model_module": "@jupyter-widgets/controls",
      "model_module_version": "1.5.0",
      "model_name": "HTMLModel",
      "state": {
       "layout": "IPY_MODEL_f366017313af43f1b3f85b472f360902",
       "style": "IPY_MODEL_7b97e39a542d4ca9a025985298ff330a",
       "value": "<h5>Queue</h5>"
      }
     },
     "7b97e39a542d4ca9a025985298ff330a": {
      "model_module": "@jupyter-widgets/controls",
      "model_module_version": "1.5.0",
      "model_name": "DescriptionStyleModel",
      "state": {
       "description_width": ""
      }
     },
     "7fcf20b236a845f28a7e929bd8335586": {
      "model_module": "@jupyter-widgets/controls",
      "model_module_version": "1.5.0",
      "model_name": "ButtonStyleModel",
      "state": {}
     },
     "89a7d5ee293949f586e9cdeccc3d4937": {
      "model_module": "@jupyter-widgets/base",
      "model_module_version": "1.2.0",
      "model_name": "LayoutModel",
      "state": {
       "width": "190px"
      }
     },
     "8a0d7b5bed5f4973bde1df34552b1aa4": {
      "model_module": "@jupyter-widgets/controls",
      "model_module_version": "1.5.0",
      "model_name": "HTMLModel",
      "state": {
       "layout": "IPY_MODEL_0b69169d40a84f3194be67b531b07027",
       "style": "IPY_MODEL_0d2f68854d864247b861efd9f7586686",
       "value": "<p style='font-family: IBM Plex Sans, Arial, Helvetica, sans-serif; font-size: 20px; font-weight: medium;'>Circuit Properties</p>"
      }
     },
     "8bedcd90473f4483a1fe2849d9cbd6dd": {
      "model_module": "@jupyter-widgets/controls",
      "model_module_version": "1.5.0",
      "model_name": "HTMLModel",
      "state": {
       "layout": "IPY_MODEL_2524e8338974495ca25195c9399fd60a",
       "style": "IPY_MODEL_044571781a054f69ab5c27682652a545",
       "value": "<h5>Backend</h5>"
      }
     },
     "9eb95715dc464fe696ee4569bee444ad": {
      "model_module": "@jupyter-widgets/controls",
      "model_module_version": "1.5.0",
      "model_name": "DescriptionStyleModel",
      "state": {
       "description_width": ""
      }
     },
     "a80ac8a336f642d8af6c7cf3d59ecbf2": {
      "model_module": "@jupyter-widgets/controls",
      "model_module_version": "1.5.0",
      "model_name": "DescriptionStyleModel",
      "state": {
       "description_width": ""
      }
     },
     "b0410366f6b14036a4dc0bffb3416e46": {
      "model_module": "@jupyter-widgets/controls",
      "model_module_version": "1.5.0",
      "model_name": "HBoxModel",
      "state": {
       "children": [
        "IPY_MODEL_214bfe8ac4194c1f870e9e997523b6d0",
        "IPY_MODEL_8bedcd90473f4483a1fe2849d9cbd6dd",
        "IPY_MODEL_1408f5b6d02e4b5aae06a761ff8749b6",
        "IPY_MODEL_79795e1394aa4c9a8c852b587c98b12a",
        "IPY_MODEL_12e1f9e0309943f08b4a42eb9004ae37"
       ],
       "layout": "IPY_MODEL_3cde5e4b3eba4353be7808ccbb7c6101"
      }
     },
     "f0da33fbd36a4f19a7656435ad097469": {
      "model_module": "@jupyter-widgets/controls",
      "model_module_version": "1.5.0",
      "model_name": "ButtonModel",
      "state": {
       "button_style": "primary",
       "description": "Clear",
       "layout": "IPY_MODEL_f84e47ad37144a4d8b1416ab5a2d275d",
       "style": "IPY_MODEL_7fcf20b236a845f28a7e929bd8335586"
      }
     },
     "f366017313af43f1b3f85b472f360902": {
      "model_module": "@jupyter-widgets/base",
      "model_module_version": "1.2.0",
      "model_name": "LayoutModel",
      "state": {
       "width": "70px"
      }
     },
     "f84e47ad37144a4d8b1416ab5a2d275d": {
      "model_module": "@jupyter-widgets/base",
      "model_module_version": "1.2.0",
      "model_name": "LayoutModel",
      "state": {
       "grid_area": "right",
       "padding": "0px 0px 0px 0px",
       "width": "70px"
      }
     },
     "fe4db5f9757f453d8cd728c8e7d9713b": {
      "model_module": "@jupyter-widgets/base",
      "model_module_version": "1.2.0",
      "model_name": "LayoutModel",
      "state": {
       "width": "95px"
      }
     },
     "ffcdb13dcd37469094d36348f45b53d9": {
      "model_module": "@jupyter-widgets/base",
      "model_module_version": "1.2.0",
      "model_name": "LayoutModel",
      "state": {
       "grid_template_areas": "\n                                       \". . . . right \"\n                                        ",
       "grid_template_columns": "20% 20% 20% 20% 20%",
       "width": "100%"
      }
     }
    },
    "version_major": 2,
    "version_minor": 0
   }
  }
 },
 "nbformat": 4,
 "nbformat_minor": 4
}
