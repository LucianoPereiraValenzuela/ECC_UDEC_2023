{
 "cells": [
  {
   "cell_type": "code",
   "execution_count": 2,
   "metadata": {},
   "outputs": [],
   "source": [
    "import numpy as np\n",
    "from qiskit import QuantumCircuit, Aer \n",
    "from qiskit.visualization import plot_histogram "
   ]
  },
  {
   "cell_type": "markdown",
   "metadata": {},
   "source": [
    "# Algoritmo de Grover\n",
    "\n",
    "El algoritmo de Grover, propuesto por Lov Grover en 1996, provee una ventaja cuántica en el problema de búsqueda de una lista de datos sin estructura. Consideremos que queremos buscar un elemento $w$ dentro de una lista de $N$ elementos. Podríamos resolver el problema clásicamente verificando cada elemento de la lista hasta encontrar $w$, de modo que en promedio se requieren $N/2$ evaluaciones de la lista para encontrar $w$. En el peor de los casos necesitamos $N$ evaluaciones. Por el contrario, Lov Grover mostró que existe un algoritmo cuántico que puede encontrar $w$ con sólamente $\\sqrt{N}$ evaluaciones de la lista, el cual proporciona  un speed-up cuadrático con respecto a la solución clásica. En este taller implementaremos este algoritmo.\n",
    "\n",
    "<img src=\"img/lista_elementos.png\" width=\"900\"/>"
   ]
  },
  {
   "attachments": {},
   "cell_type": "markdown",
   "metadata": {},
   "source": [
    "### **Ejercicio 1: Estado inicial**\n",
    "\n",
    "Cree un circuito cuántico `qc_in` con $n=3$ qubits y clbits. Inicialice el circuito en el estado\n",
    "$$|\\psi_0\\rangle=H^{\\otimes n}|0\\rangle^{\\otimes n}.$$\n",
    "Esta es una superposición uniforme de todos los vectores de la base computacional,\n",
    "\n",
    "$$\n",
    "|\\psi_0\\rangle = |s\\rangle  = \\frac{1}{\\sqrt{2^{n}}}\\sum_{x=0}^{2^n-1}|x\\rangle.\n",
    "$$"
   ]
  },
  {
   "cell_type": "code",
   "execution_count": null,
   "metadata": {},
   "outputs": [],
   "source": []
  },
  {
   "attachments": {},
   "cell_type": "markdown",
   "metadata": {},
   "source": [
    "Con este paso básicamente codificamos la lista de datos en un estado cuántico, y como $|\\psi_0\\rangle$ contiene todos los estados de la base, entonces también incluye a $|w\\rangle$. Podemos representar esto con la siguiente figura.\n",
    "\n",
    "<!-- <img src=\"img/step 1.png\" width=\"900\"/> -->\n",
    "![step1](img/step%201.png)\n",
    "\n",
    "donde en el gráfico de la izquierda tenemos un plano bidimensional generado por el vector que estamos buscando $|w\\rangle$ y un vector $|s'\\rangle$ que es obtenido al quitar el elemento $|w\\rangle$ del vector $|s\\rangle$. El gráfico de la derecha nos muestra las amplitudes del estado $|s\\rangle$."
   ]
  },
  {
   "attachments": {},
   "cell_type": "markdown",
   "metadata": {},
   "source": [
    "### **Ejercicio 2: El oráculo**\n",
    "\n",
    "Cree un circuito cuántico llamado `qc_Uf` que implemente el oráculo tal que  \n",
    "\n",
    "$$\n",
    "U_f|x\\rangle=\\left\\{\\begin{aligned}\n",
    "|x\\rangle & \\text { if } x \\neq w\\\\\n",
    "-|x\\rangle & \\text { if } x=w\n",
    "\\end{aligned}\\right.\n",
    "$$\n",
    "\n",
    "donde $x$ es una cadena de bits. Este operador corresponde a una reflexión del vector $|s\\rangle$  con respecto al vector $|s'\\rangle$ (ver figura), de modo que añade un signo negativo en la componente proporcional a $|w\\rangle$,\n",
    "\n",
    "\\begin{align}\n",
    "U_f|\\psi_0\\rangle = -|w\\rangle+ |s'\\rangle.\n",
    "\\end{align}\n",
    "\n",
    "<!-- <img src=\"img/step 2.png\" width=\"900\"/> -->\n",
    "![step2](img/step%202.png)\n",
    "\n",
    "La representación matricial de $U_f$ es diagonal con elementos $\\langle w |U_f| w \\rangle=-1$ y $\\langle x |U_f| x \\rangle=1$ cuando $x\\neq w$. \n",
    "\n",
    "Para el caso particular de $w=011$, el oráculo esta dado por\n",
    "\n",
    "$$\n",
    "U_f = \n",
    "\\begin{bmatrix}\n",
    "1 & 0 & 0 & 0 & 0 & 0 & 0 & 0\\\\\n",
    "0 & 1 & 0 & 0 & 0 & 0 & 0 & 0\\\\\n",
    "0 & 0 & 1 & 0 & 0 & 0 & 0 & 0\\\\\n",
    "0 & 0 & 0 & -1& 0 & 0 & 0 & 0\\\\\n",
    "0 & 0 & 0 & 0 & 1 & 0 & 0 & 0\\\\\n",
    "0 & 0 & 0 & 0 & 0 & 1 & 0 & 0\\\\\n",
    "0 & 0 & 0 & 0 & 0 & 0 & 1 & 0\\\\\n",
    "0 & 0 & 0 & 0 & 0 & 0 & 0 & 1\n",
    "\\end{bmatrix}.\n",
    "$$\n",
    "\n",
    "HINT: Use la función `diagonal` de Qiskit."
   ]
  },
  {
   "cell_type": "code",
   "execution_count": null,
   "metadata": {},
   "outputs": [],
   "source": []
  },
  {
   "attachments": {},
   "cell_type": "markdown",
   "metadata": {},
   "source": [
    "### **Ejercicio 3. Amplificación**\n",
    "\n",
    "Cree un circuito cuántico llamado `qc_Us` que implemente la operación\n",
    "\n",
    "$$U_s = 2|\\psi_0\\rangle\\langle\\psi_0|-\\mathbb{I}= H^{\\otimes n} [2(|0\\rangle\\langle 0|)^{\\otimes n} -\\mathbb{I}] H^{\\otimes n}. $$\n",
    "\n",
    "Análogamente al problema anterior, esta es una reflexión del vector $|\\psi_1\\rangle$, pero con respecto al estado $|\\psi_0\\rangle$. Este paso amplifica la componente de $|\\psi_0\\rangle$ proporcional a $|w\\rangle$.\n",
    "\n",
    "<!-- <img src=\"img/step 3.png\" width=\"900\"/> -->\n",
    "![step3](img/step%203.png)\n",
    "\n",
    "HINT: Recuerde que $|\\psi_0\\rangle = H^{\\otimes n} | 0\\cdots0\\rangle$."
   ]
  },
  {
   "cell_type": "code",
   "execution_count": null,
   "metadata": {},
   "outputs": [],
   "source": []
  },
  {
   "attachments": {},
   "cell_type": "markdown",
   "metadata": {},
   "source": [
    "### **Ejercicio 4: Poniendo todo junto**\n",
    "\n",
    "Cree una función llamada `Grover` que implemente el circuito para una búsqueda de Grover con $k$ aplicaciones del oráculo y del amplificador. Esto se hace componiendo los circuitos `qc_in`, `qc_Uf`, y `qc_Us`.\n",
    "\n",
    "<img src=\"img/complete circuit.png\" width=\"900\"/>\n",
    "<!-- ![step2](img/step%202.png) -->"
   ]
  },
  {
   "cell_type": "code",
   "execution_count": null,
   "metadata": {},
   "outputs": [],
   "source": []
  },
  {
   "cell_type": "code",
   "execution_count": null,
   "metadata": {},
   "outputs": [],
   "source": []
  },
  {
   "attachments": {},
   "cell_type": "markdown",
   "metadata": {},
   "source": [
    "### **Ejercicio 5: Ejecutando el algoritmo de Grover.**\n",
    "\n",
    "Ejecute simulaciones del algoritmo de Grover para distintos valores de $k$ y verifique que $k\\approx\\sqrt{N}$ son suficientes para encontrar la solución con mayor probabilidad. Para nuestro caso $N=2^n=8$, de modo que con $k=2$ debería ser suficiente para alcanzar la probabilidad de acierto más alta."
   ]
  },
  {
   "cell_type": "code",
   "execution_count": null,
   "metadata": {},
   "outputs": [],
   "source": []
  },
  {
   "cell_type": "code",
   "execution_count": null,
   "metadata": {},
   "outputs": [],
   "source": []
  },
  {
   "cell_type": "code",
   "execution_count": null,
   "metadata": {},
   "outputs": [],
   "source": []
  },
  {
   "attachments": {},
   "cell_type": "markdown",
   "metadata": {},
   "source": [
    "### Referencias\n",
    "https://qiskit.org/textbook/ch-algorithms/grover.html\n",
    "\n",
    "https://arxiv.org/abs/2212.10482"
   ]
  },
  {
   "cell_type": "code",
   "execution_count": 1,
   "metadata": {},
   "outputs": [
    {
     "data": {
      "text/html": [
       "<h3>Version Information</h3><table><tr><th>Qiskit Software</th><th>Version</th></tr><tr><td><code>qiskit-terra</code></td><td>0.22.3</td></tr><tr><td><code>qiskit-aer</code></td><td>0.11.2</td></tr><tr><td><code>qiskit-ibmq-provider</code></td><td>0.19.2</td></tr><tr><td><code>qiskit</code></td><td>0.39.4</td></tr><tr><th>System information</th></tr><tr><td>Python version</td><td>3.11.1</td></tr><tr><td>Python compiler</td><td>MSC v.1934 64 bit (AMD64)</td></tr><tr><td>Python build</td><td>tags/v3.11.1:a7a450f, Dec  6 2022 19:58:39</td></tr><tr><td>OS</td><td>Windows</td></tr><tr><td>CPUs</td><td>4</td></tr><tr><td>Memory (Gb)</td><td>7.832508087158203</td></tr><tr><td colspan='2'>Tue Jan 10 16:24:04 2023 Hora estándar romance</td></tr></table>"
      ],
      "text/plain": [
       "<IPython.core.display.HTML object>"
      ]
     },
     "metadata": {},
     "output_type": "display_data"
    }
   ],
   "source": [
    "import qiskit.tools.jupyter\n",
    "%qiskit_version_table"
   ]
  }
 ],
 "metadata": {
  "hide_input": false,
  "kernelspec": {
   "display_name": "Python 3 (ipykernel)",
   "language": "python",
   "name": "python3"
  },
  "language_info": {
   "codemirror_mode": {
    "name": "ipython",
    "version": 3
   },
   "file_extension": ".py",
   "mimetype": "text/x-python",
   "name": "python",
   "nbconvert_exporter": "python",
   "pygments_lexer": "ipython3",
   "version": "3.11.1"
  },
  "vscode": {
   "interpreter": {
    "hash": "0b9832f27c5ea70394679bd537127f43581f6b20574434b483f64b86bb1b3379"
   }
  }
 },
 "nbformat": 4,
 "nbformat_minor": 2
}
