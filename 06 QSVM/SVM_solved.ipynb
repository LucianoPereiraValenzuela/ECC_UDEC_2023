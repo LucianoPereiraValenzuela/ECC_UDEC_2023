{
 "cells": [
  {
   "cell_type": "code",
   "execution_count": 1,
   "metadata": {},
   "outputs": [],
   "source": [
    "import csv\n",
    "import numpy as np\n",
    "import matplotlib.pyplot as plt\n",
    "from sklearn.svm import SVC"
   ]
  },
  {
   "attachments": {},
   "cell_type": "markdown",
   "metadata": {},
   "source": [
    "# Máquinas Cuánticas de Soporte Vectorial.\n",
    "\n",
    "Las máquinas de soporte vectorial son modelos de entrenamiento supervisado para la clasificación de datos. En este taller construiremos un clasificador clásico y uno cuántico para discriminar una característica de un dataset a elección. "
   ]
  },
  {
   "attachments": {},
   "cell_type": "markdown",
   "metadata": {},
   "source": [
    "## Problema 1: Dataset.\n",
    "\n",
    "Construya datasets $(\\vec{x}_{i},y_{i})$ y $(\\vec{t}_{i},s_{i})$ para entrenar y testear un clasificador. Por ejemplo, pueden elegir y filtrar un dataset de [kaggle](https://www.kaggle.com/datasets). Estos datasets deben tener una característica bidimensional $\\vec{x}_i$ ($\\vec{t}_i$) y otra binaria $y_i$ ($s_i$). Además, el tamaño del set de entrenamiento $n_{train}$ debe estar entre 10 y 30, mientras que el de test $n_{test}$ debe ser 10. Haga un gráfico de estos datasets."
   ]
  },
  {
   "cell_type": "code",
   "execution_count": 2,
   "metadata": {},
   "outputs": [
    {
     "data": {
      "text/plain": [
       "(['type',\n",
       "  'fixed acidity',\n",
       "  'volatile acidity',\n",
       "  'citric acid',\n",
       "  'residual sugar',\n",
       "  'chlorides',\n",
       "  'free sulfur dioxide',\n",
       "  'total sulfur dioxide',\n",
       "  'density',\n",
       "  'pH',\n",
       "  'sulphates',\n",
       "  'alcohol',\n",
       "  'quality'],\n",
       " 6497)"
      ]
     },
     "execution_count": 2,
     "metadata": {},
     "output_type": "execute_result"
    }
   ],
   "source": [
    "data = []\n",
    "with open('winequalityN.csv', newline='') as csvfile:\n",
    "    spamreader = csv.reader(csvfile, delimiter=',')\n",
    "    for row in spamreader:\n",
    "        data.append(row)\n",
    "\n",
    "n_datos = len(data) - 1\n",
    "data[0], n_datos "
   ]
  },
  {
   "cell_type": "code",
   "execution_count": 3,
   "metadata": {},
   "outputs": [],
   "source": [
    "def select_data_random( N, colums=[2,5] ):\n",
    "    \"\"\"\n",
    "    N : numero de datos para el entrenamiento o el test.\n",
    "    \"\"\"\n",
    "    index_train = np.random.randint(1, n_datos-1, N )\n",
    "    data_train = [  [ data[k][j] for j in [0]+colums ] for k in index_train  ] \n",
    "\n",
    "    X_train = np.zeros( (N, 2) )\n",
    "    Y_train = np.zeros( N )\n",
    "\n",
    "    for j in range(N):\n",
    "        if data_train[j][0] == \"red\":\n",
    "            Y_train[j] = 0\n",
    "        elif data_train[j][0] == \"white\":\n",
    "            Y_train[j] = 1\n",
    "        X_train[j,0] = float( data_train[j][1] )\n",
    "        X_train[j,1] = float( data_train[j][2] )\n",
    "    \n",
    "    return X_train, Y_train\n"
   ]
  },
  {
   "cell_type": "code",
   "execution_count": 4,
   "metadata": {},
   "outputs": [],
   "source": [
    "N = 30\n",
    "M = 10\n",
    "\n",
    "np.random.seed(30)\n",
    "X_train, Y_train = select_data_random( N )\n",
    "X_test, Y_test   = select_data_random( M )"
   ]
  },
  {
   "cell_type": "code",
   "execution_count": 5,
   "metadata": {},
   "outputs": [
    {
     "data": {
      "text/plain": [
       "<matplotlib.collections.PathCollection at 0x21a3227f850>"
      ]
     },
     "execution_count": 5,
     "metadata": {},
     "output_type": "execute_result"
    },
    {
     "data": {
      "image/png": "[encoded data removed]",
      "text/plain": [
       "<Figure size 720x360 with 2 Axes>"
      ]
     },
     "metadata": {
      "needs_background": "light"
     },
     "output_type": "display_data"
    }
   ],
   "source": [
    "fig, axes = plt.subplots( 1,2 , figsize=( 10, 5 ), sharey = True, sharex = True )\n",
    "axes[0].scatter( X_train[Y_train==0][:,0], X_train[Y_train==0][:,1] )\n",
    "axes[0].scatter( X_train[Y_train==1][:,0], X_train[Y_train==1][:,1] )\n",
    "axes[1].scatter( X_test[Y_test==0][:,0], X_test[Y_test==0][:,1] )\n",
    "axes[1].scatter( X_test[Y_test==1][:,0], X_test[Y_test==1][:,1] )"
   ]
  },
  {
   "attachments": {},
   "cell_type": "markdown",
   "metadata": {},
   "source": [
    "## Problema 2: Kernel clásico.\n",
    "\n",
    "Calcule el siguiente Kernel para sus datos\n",
    "\n",
    "$$ K_{jk}(\\vec{x}) = ( 1 + \\vec{x}_j\\cdot\\vec{x}_k )^2, \\qquad j,k = 1,\\dots, n_{train} . $$\n",
    "\n",
    "También calcule la matriz\n",
    "\n",
    "$$ T_{jk}(\\vec{x},\\vec{t}) = ( 1 + \\vec{t}_j\\cdot\\vec{x}_k )^2, \\qquad j=1,\\dots n_{test},\\quad k=1,\\dots,n_{train}. $$\n",
    "\n",
    "para realizar el test del entrenamiento. Grafique estos Kernels."
   ]
  },
  {
   "cell_type": "code",
   "execution_count": 6,
   "metadata": {},
   "outputs": [],
   "source": [
    "def kernel_clasico( X_train, X_test=None ):\n",
    "\n",
    "    if X_test is None:\n",
    "        X_test = X_train\n",
    "\n",
    "    X_train = np.array(X_train)\n",
    "    X_test  = np.array(X_test)\n",
    "\n",
    "    K_train = np.zeros((X_train.shape[0], X_test.shape[0]))\n",
    "    for i, x_train in enumerate(X_train):\n",
    "        for j, x_test in enumerate(X_test):\n",
    "            K_train[i, j] = ( 1 + np.dot(x_train, x_test) )**2 \n",
    "\n",
    "    return K_train.T"
   ]
  },
  {
   "cell_type": "code",
   "execution_count": 7,
   "metadata": {},
   "outputs": [],
   "source": [
    "K_train = kernel_clasico( X_train )\n",
    "K_test  = kernel_clasico( X_train, X_test )"
   ]
  },
  {
   "cell_type": "code",
   "execution_count": 8,
   "metadata": {},
   "outputs": [
    {
     "data": {
      "text/plain": [
       "<matplotlib.image.AxesImage at 0x21a3236e850>"
      ]
     },
     "execution_count": 8,
     "metadata": {},
     "output_type": "execute_result"
    },
    {
     "data": {
      "image/png": "[encoded data removed]",
      "text/plain": [
       "<Figure size 720x360 with 2 Axes>"
      ]
     },
     "metadata": {
      "needs_background": "light"
     },
     "output_type": "display_data"
    }
   ],
   "source": [
    "fig, ax = plt.subplots( 1, 2, figsize=(10,5) )\n",
    "ax[0].imshow( K_train )\n",
    "ax[1].imshow( K_test )"
   ]
  },
  {
   "attachments": {},
   "cell_type": "markdown",
   "metadata": {},
   "source": [
    "## Problema 3. Entrenamiento con Kernel clásico.\n",
    "Entrene un discriminador con el dataset y el kernel clásico que construyó. Posteriormente, realice un test de su entrenamiento."
   ]
  },
  {
   "cell_type": "code",
   "execution_count": 9,
   "metadata": {},
   "outputs": [
    {
     "data": {
      "text/plain": [
       "(array([0., 1., 1., 1., 1., 0., 1., 1., 1., 1.]),\n",
       " array([0., 1., 1., 1., 1., 0., 1., 1., 1., 1.]),\n",
       " 1.0)"
      ]
     },
     "execution_count": 9,
     "metadata": {},
     "output_type": "execute_result"
    }
   ],
   "source": [
    "svm = SVC( kernel = 'precomputed' )\n",
    "svm.fit( K_train, Y_train )\n",
    "Y_predict = svm.predict( K_test )\n",
    "Y_test, Y_predict, svm.score(K_test, Y_test)  "
   ]
  },
  {
   "attachments": {},
   "cell_type": "markdown",
   "metadata": {},
   "source": [
    "## Problema 4: Codificación en un estado cuántico.\n",
    "\n",
    "Cree una función  que tenga como argumento $\\vec{x}$ bidimensional y como salida un circuito cuántico paramétrico evaluado en $\\vec{x}$ a elección. Denotaremos el estado de este circuito como $|\\phi(\\vec{x})\\rangle$. Como referencia puede utilizar el circuito de la siguiente figura, pero puede modificarlo si lo desea.\n",
    "\n",
    "<img src=img/figure.png>\n"
   ]
  },
  {
   "cell_type": "code",
   "execution_count": 10,
   "metadata": {},
   "outputs": [],
   "source": [
    "from qiskit import QuantumCircuit, Aer, execute\n",
    "\n",
    "def circuit( x ):\n",
    "\n",
    "    qc = QuantumCircuit(2, 2)\n",
    "    qc.h([0,1])\n",
    "    qc.rz(2*np.pi*x[0], 0)\n",
    "    qc.rz(2*np.pi*x[1], 1)\n",
    "    qc.cx(0,1)\n",
    "    qc.rz(2*np.pi*x[1], 1)\n",
    "    return qc"
   ]
  },
  {
   "cell_type": "code",
   "execution_count": 11,
   "metadata": {},
   "outputs": [],
   "source": [
    "from qiskit.circuit import Parameter\n",
    "\n",
    "theta = Parameter('$\\\\theta$')\n",
    "phi = Parameter('$\\\\phi$')\n",
    "qc1 = circuit( [ theta, phi ] )"
   ]
  },
  {
   "attachments": {},
   "cell_type": "markdown",
   "metadata": {},
   "source": [
    "## Problema 5: Kernel Cuántico.\n",
    "\n",
    "Cree un programa capaz de evaluar el Kernel cuántico de los datos codificados en el estado $|\\phi(\\vec{x})\\rangle$, es decir\n",
    "\n",
    "$$  K_{jk}^Q =  | \\langle \\phi(\\vec{x}_j) | \\phi(\\vec{x}_k)\\rangle |^2, \\qquad j,k = 1,\\dots, n_{train}. $$\n",
    "\n",
    "Esto requiere componer los circuitos de $\\langle\\phi(\\vec{x}_j)|$ y $|\\phi(\\vec{x}_k)\\rangle$, y después realizar una medida. Análogamente, evalue la matriz\n",
    "\n",
    "$$  T_{jk}^Q =  | \\langle \\phi(\\vec{t}_j) | \\phi(\\vec{x}_k) \\rangle |^2, \\qquad j= 1,\\dots, n_{test},\\quad k = 1,\\dots, n_{train}. $$\n",
    "\n",
    "Grafique ambas matrices.\n"
   ]
  },
  {
   "cell_type": "code",
   "execution_count": 12,
   "metadata": {},
   "outputs": [],
   "source": [
    "def circuit_for_kernel_element(x_1, x_2 ):\n",
    "    \n",
    "    \"\"\" \n",
    "    x_1     : vector bidimensional\n",
    "    x_2     : vector bidimensional\n",
    "    \"\"\"\n",
    "\n",
    "    qc = QuantumCircuit(2, 2)\n",
    "    qc.compose( circuit( x_1 ), qubits=[0,1], inplace=True )\n",
    "    qc.compose( circuit( x_2 ).inverse(), qubits=[0,1], inplace=True )\n",
    "    qc.measure(range(2), range(2))\n",
    "\n",
    "    return qc\n",
    "\n",
    "def Quantum_Kernel( X_train, X_test=None, backend=Aer.get_backend('statevector_simulator'), shots=100 ):\n",
    "    \"\"\" \n",
    "    X_train : vector bidimensional para entrenar\n",
    "    X_test  : vector bidimensional para testear\n",
    "    K_q     : Kernel cuantico\n",
    "    backend : simulador o computador cuantico\n",
    "    shots   : numero de shots     \n",
    "    \"\"\"\n",
    "\n",
    "    if X_test is None:\n",
    "        X_test = X_train\n",
    "    X_train = np.array(X_train)\n",
    "    X_test  = np.array(X_test)\n",
    "\n",
    "    qcs = []\n",
    "    for x_train in X_train:\n",
    "        for x_test in X_test:\n",
    "            qcs.append( circuit_for_kernel_element( x_train, x_test ) )\n",
    "\n",
    "    job = execute(qcs, backend, shots=shots)\n",
    "    result = job.result()\n",
    "    counts = result.get_counts()\n",
    "\n",
    "    K_q = np.zeros(( X_test.shape[0], X_train.shape[0]))\n",
    "    k = 0\n",
    "    for j, x_train in enumerate(X_train):\n",
    "        for i, x_test in enumerate(X_test):\n",
    "            K_q[i, j] = counts[k][\"00\"] / shots if \"00\" in counts[k] else 0\n",
    "            k         += 1\n",
    "\n",
    "    return K_q"
   ]
  },
  {
   "cell_type": "code",
   "execution_count": 13,
   "metadata": {},
   "outputs": [],
   "source": [
    "Kq_train = Quantum_Kernel( X_train )\n",
    "Kq_test  = Quantum_Kernel( X_train, X_test )"
   ]
  },
  {
   "cell_type": "code",
   "execution_count": 14,
   "metadata": {},
   "outputs": [
    {
     "data": {
      "text/plain": [
       "<matplotlib.image.AxesImage at 0x21a64550f40>"
      ]
     },
     "execution_count": 14,
     "metadata": {},
     "output_type": "execute_result"
    },
    {
     "data": {
      "image/png": "[encoded data removed]",
      "text/plain": [
       "<Figure size 720x360 with 2 Axes>"
      ]
     },
     "metadata": {
      "needs_background": "light"
     },
     "output_type": "display_data"
    }
   ],
   "source": [
    "fig, ax = plt.subplots( 1, 2, figsize=(10,5) )\n",
    "ax[0].imshow( Kq_train )\n",
    "ax[1].imshow( Kq_test )"
   ]
  },
  {
   "attachments": {},
   "cell_type": "markdown",
   "metadata": {},
   "source": [
    "## Problema 6. Entrenamiento con Kernel Cuántico.\n",
    "Entrene un discriminador con el dataset y el kernel cuántico que construyó. Posteriormente, realice un test de su entrenamiento."
   ]
  },
  {
   "cell_type": "code",
   "execution_count": 15,
   "metadata": {},
   "outputs": [
    {
     "data": {
      "text/plain": [
       "(array([0., 1., 1., 1., 1., 0., 1., 1., 1., 1.]),\n",
       " array([0., 1., 1., 1., 1., 0., 1., 1., 1., 1.]),\n",
       " 1.0)"
      ]
     },
     "execution_count": 15,
     "metadata": {},
     "output_type": "execute_result"
    }
   ],
   "source": [
    "svm = SVC( kernel = 'precomputed' )\n",
    "svm.fit( Kq_train, Y_train )\n",
    "Y_pred_quantum = svm.predict(Kq_test)\n",
    "Y_test, Y_pred_quantum, svm.score(Kq_test, Y_test)"
   ]
  },
  {
   "cell_type": "code",
   "execution_count": null,
   "metadata": {},
   "outputs": [],
   "source": []
  }
 ],
 "metadata": {
  "hide_input": false,
  "kernelspec": {
   "display_name": "Python 3.9.5 ('base')",
   "language": "python",
   "name": "python3"
  },
  "language_info": {
   "codemirror_mode": {
    "name": "ipython",
    "version": 3
   },
   "file_extension": ".py",
   "mimetype": "text/x-python",
   "name": "python",
   "nbconvert_exporter": "python",
   "pygments_lexer": "ipython3",
   "version": "3.9.5"
  },
  "vscode": {
   "interpreter": {
    "hash": "cda8d9f3af62c123a40166c789fd00a9f9e68094ffd9b43f4f632544febced4e"
   }
  }
 },
 "nbformat": 4,
 "nbformat_minor": 2
}
