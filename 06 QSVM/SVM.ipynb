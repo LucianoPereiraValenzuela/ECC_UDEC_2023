{
 "cells": [
  {
   "cell_type": "code",
   "execution_count": 40,
   "metadata": {},
   "outputs": [],
   "source": [
    "import csv\n",
    "import numpy as np\n",
    "import matplotlib.pyplot as plt\n",
    "from sklearn.svm import SVC"
   ]
  },
  {
   "attachments": {},
   "cell_type": "markdown",
   "metadata": {},
   "source": [
    "# Máquinas Cuánticas de Soporte Vectorial.\n",
    "\n",
    "Las máquinas de soporte vectorial son modelos de entrenamiento supervisado para la clasificación de datos. En este taller construiremos un clasificador clásico y uno cuántico para discriminar una característica de un dataset a elección. "
   ]
  },
  {
   "attachments": {},
   "cell_type": "markdown",
   "metadata": {},
   "source": [
    "## Problema 1: Dataset.\n",
    "\n",
    "Construya datasets $(\\vec{x}_{i},y_{i})$ y $(\\vec{t}_{i},s_{i})$ para entrenar y testear un clasificador. Por ejemplo, pueden elegir y filtrar un dataset de [kaggle](https://www.kaggle.com/datasets). Estos datasets deben tener una característica bidimensional $\\vec{x}_i$ ($\\vec{t}_i$) y otra binaria $y_i$ ($s_i$). Además, el tamaño del set de entrenamiento $n_{train}$ debe estar entre 10 y 30, mientras que el de test $n_{test}$ debe ser 10. Haga un gráfico de estos datasets."
   ]
  },
  {
   "cell_type": "code",
   "execution_count": 41,
   "metadata": {},
   "outputs": [
    {
     "data": {
      "text/plain": [
       "(['type',\n",
       "  'fixed acidity',\n",
       "  'volatile acidity',\n",
       "  'citric acid',\n",
       "  'residual sugar',\n",
       "  'chlorides',\n",
       "  'free sulfur dioxide',\n",
       "  'total sulfur dioxide',\n",
       "  'density',\n",
       "  'pH',\n",
       "  'sulphates',\n",
       "  'alcohol',\n",
       "  'quality'],\n",
       " 6497)"
      ]
     },
     "execution_count": 41,
     "metadata": {},
     "output_type": "execute_result"
    }
   ],
   "source": [
    "data = []\n",
    "with open('winequalityN.csv', newline='') as csvfile:\n",
    "    spamreader = csv.reader(csvfile, delimiter=',')\n",
    "    for row in spamreader:\n",
    "        data.append(row)\n",
    "\n",
    "n_datos = len(data) - 1\n",
    "data[0], n_datos "
   ]
  },
  {
   "cell_type": "code",
   "execution_count": 42,
   "metadata": {},
   "outputs": [],
   "source": [
    "def select_data_random( data, N, colums=[2,5] ):\n",
    "    \"\"\"\n",
    "    data    : dataset\n",
    "    N       : numero de datos para el entrenamiento o el test.\n",
    "    columns : columnas correspondientes a las caractesiticas que usaremos.\n",
    "\n",
    "    X_train : N vectores bidimensionales\n",
    "    Y_train : N cantidades binarias\n",
    "    \"\"\"\n",
    "\n",
    "    n_datos = len(data) - 1\n",
    "\n",
    "    index_train = np.random.randint(1, n_datos-1, N )\n",
    "    data_train = [  [ data[k][j] for j in [0]+colums ] for k in index_train  ] \n",
    "\n",
    "    X = np.zeros( (N, 2) )\n",
    "    Y = np.zeros( N )\n",
    "\n",
    "    for j in range(N):\n",
    "        if data_train[j][0] == \"red\":\n",
    "            Y[j] = 0\n",
    "        elif data_train[j][0] == \"white\":\n",
    "            Y[j] = 1\n",
    "        X[j,0] = float( data_train[j][1] )\n",
    "        X[j,1] = float( data_train[j][2] )\n",
    "    \n",
    "    return X, Y\n"
   ]
  },
  {
   "cell_type": "code",
   "execution_count": 43,
   "metadata": {},
   "outputs": [],
   "source": [
    "N = 30\n",
    "M = 10\n",
    "\n",
    "np.random.seed(30)\n",
    "X_train, Y_train = select_data_random( data, N )\n",
    "X_test, Y_test   = select_data_random( data, M )"
   ]
  },
  {
   "cell_type": "code",
   "execution_count": 44,
   "metadata": {},
   "outputs": [
    {
     "data": {
      "text/plain": [
       "<matplotlib.collections.PathCollection at 0x25cc15ffd90>"
      ]
     },
     "execution_count": 44,
     "metadata": {},
     "output_type": "execute_result"
    },
    {
     "data": {
      "image/png": "[encoded data removed]",
      "text/plain": [
       "<Figure size 720x360 with 2 Axes>"
      ]
     },
     "metadata": {
      "needs_background": "light"
     },
     "output_type": "display_data"
    }
   ],
   "source": [
    "fig, axes = plt.subplots( 1,2 , figsize=( 10, 5 ), sharey = True, sharex = True )\n",
    "axes[0].scatter( X_train[Y_train==0][:,0], X_train[Y_train==0][:,1] )\n",
    "axes[0].scatter( X_train[Y_train==1][:,0], X_train[Y_train==1][:,1] )\n",
    "axes[1].scatter( X_test[Y_test==0][:,0], X_test[Y_test==0][:,1] )\n",
    "axes[1].scatter( X_test[Y_test==1][:,0], X_test[Y_test==1][:,1] )"
   ]
  },
  {
   "attachments": {},
   "cell_type": "markdown",
   "metadata": {},
   "source": [
    "## Problema 2: Kernel clásico.\n",
    "\n",
    "Calcule el siguiente Kernel para sus datos\n",
    "\n",
    "$$ K_{jk}(\\vec{x}) = ( 1 + \\vec{x}_j\\cdot\\vec{x}_k )^2, \\qquad i,j = 1,\\dots, n_{train} . $$\n",
    "\n",
    "También calcule la matriz\n",
    "\n",
    "$$ T_{jk}(\\vec{x},\\vec{t}) = ( 1 + \\vec{t}_j\\cdot\\vec{x}_k )^2, \\qquad i=1,\\dots n_{test},\\quad j=1,\\dots,n_{train}. $$\n",
    "\n",
    "para realizar el test del entrenamiento. Grafique estos Kernels."
   ]
  },
  {
   "cell_type": "code",
   "execution_count": 45,
   "metadata": {},
   "outputs": [],
   "source": [
    "def kernel_clasico( X_train, X_test=None ):\n",
    "    \"\"\"\n",
    "    X_train : vector bidimensional para entrenar\n",
    "    X_test  : vector bidimensional para testear\n",
    "    K       : Kernel clasico\n",
    "    \"\"\"\n",
    "\n",
    "    if X_test is None:\n",
    "        X_test = X_train\n",
    "\n",
    "    X_train = np.array(X_train)\n",
    "    X_test  = np.array(X_test)\n",
    "    K      = np.zeros(( X_test.shape[0], X_train.shape[0]))\n",
    "\n",
    "    ######\n",
    "    ## Escriba su codigo aca.\n",
    "    ######\n",
    "\n",
    "    return K"
   ]
  },
  {
   "cell_type": "code",
   "execution_count": 46,
   "metadata": {},
   "outputs": [],
   "source": [
    "K_train = kernel_clasico( X_train )\n",
    "K_test  = kernel_clasico( X_train, X_test )"
   ]
  },
  {
   "cell_type": "code",
   "execution_count": 47,
   "metadata": {},
   "outputs": [
    {
     "data": {
      "text/plain": [
       "<matplotlib.image.AxesImage at 0x25cc16708e0>"
      ]
     },
     "execution_count": 47,
     "metadata": {},
     "output_type": "execute_result"
    },
    {
     "data": {
      "image/png": "[encoded data removed]",
      "text/plain": [
       "<Figure size 720x360 with 2 Axes>"
      ]
     },
     "metadata": {
      "needs_background": "light"
     },
     "output_type": "display_data"
    }
   ],
   "source": [
    "fig, ax = plt.subplots( 1, 2, figsize=(10,5) )\n",
    "ax[0].imshow( K_train )\n",
    "ax[1].imshow( K_test )"
   ]
  },
  {
   "attachments": {},
   "cell_type": "markdown",
   "metadata": {},
   "source": [
    "## Problema 3. Entrenamiento con Kernel clásico.\n",
    "Entrene un discriminador con el dataset y el kernel clásico que construyó. Posteriormente, realice un test de su entrenamiento."
   ]
  },
  {
   "cell_type": "code",
   "execution_count": 48,
   "metadata": {},
   "outputs": [
    {
     "name": "stdout",
     "output_type": "stream",
     "text": [
      "Datos de entrenamiento: [0. 1. 1. 1. 1. 0. 1. 1. 1. 1.]\n",
      "Predicción:             [1. 1. 1. 1. 1. 1. 1. 1. 1. 1.]\n",
      "Fidelidad:              0.8\n"
     ]
    }
   ],
   "source": [
    "svm = SVC( kernel = 'precomputed' )\n",
    "svm.fit( K_train, Y_train )\n",
    "Y_predict = svm.predict( K_test )\n",
    "print( 'Datos de entrenamiento:',  Y_test)\n",
    "print( 'Predicción:            ',  Y_predict)\n",
    "print( 'Fidelidad:             ', svm.score(K_test, Y_test) )"
   ]
  },
  {
   "attachments": {},
   "cell_type": "markdown",
   "metadata": {},
   "source": [
    "## Problema 4: Codificación en un estado cuántico.\n",
    "\n",
    "Cree una función  que tenga como argumento $\\vec{x}$ bidimensional y como salida un circuito cuántico paramétrico evaluado en $\\vec{x}$ a elección. Denotaremos el estado de este circuito como $|\\phi(\\vec{x})\\rangle$. Como referencia puede utilizar el circuito de la siguiente figura, pero puede modificarlo si lo desea.\n",
    "\n",
    "<img src=img/figure.png>\n"
   ]
  },
  {
   "cell_type": "code",
   "execution_count": 49,
   "metadata": {},
   "outputs": [],
   "source": [
    "from qiskit import QuantumCircuit, Aer, execute\n",
    "\n",
    "def circuit( x ):\n",
    "    \"\"\"\n",
    "    x  : vector bidimensional\n",
    "    qc : circuito cuantico\n",
    "    \"\"\"\n",
    "    qc = QuantumCircuit(2, 2)\n",
    "\n",
    "    return qc"
   ]
  },
  {
   "cell_type": "code",
   "execution_count": 50,
   "metadata": {},
   "outputs": [],
   "source": [
    "from qiskit.circuit import Parameter\n",
    "\n",
    "theta = Parameter('$\\\\theta$')\n",
    "phi = Parameter('$\\\\phi$')\n",
    "qc1 = circuit( [ theta, phi ] )"
   ]
  },
  {
   "attachments": {},
   "cell_type": "markdown",
   "metadata": {},
   "source": [
    "## Problema 5: Kernel Cuántico.\n",
    "\n",
    "Cree un programa capaz de evaluar el Kernel cuántico de los datos codificados en el estado $|\\phi(\\vec{x})\\rangle$, es decir\n",
    "\n",
    "$$  K_{jk}^Q =  | \\langle \\phi(\\vec{x}_j) | \\phi(\\vec{x}_k)\\rangle |^2, \\qquad i,j = 1,\\dots, n_{train}. $$\n",
    "\n",
    "Esto requiere componer los circuitos de $\\langle\\phi(\\vec{x}_j)|$ y $|\\phi(\\vec{x}_k)\\rangle$, y después realizar una medida. Análogamente, evalue la matriz\n",
    "\n",
    "$$  T_{jk}^Q =  | \\langle \\phi(\\vec{t}_j) | \\phi(\\vec{x}_k) \\rangle |^2, \\qquad i= 1,\\dots, n_{test},\\quad j = 1,\\dots, n_{train}. $$\n",
    "\n",
    "Grafique ambas matrices.\n"
   ]
  },
  {
   "cell_type": "code",
   "execution_count": 51,
   "metadata": {},
   "outputs": [],
   "source": [
    "def circuit_for_kernel_element(x_1, x_2 ):\n",
    "    \n",
    "    \"\"\" \n",
    "    x_1 : vector bidimensional\n",
    "    x_2 : vector bidimensional\n",
    "    qc  : circuito cuantico\n",
    "    \"\"\"\n",
    "\n",
    "    qc = QuantumCircuit(2, 2)\n",
    "    ####\n",
    "    # Escriba su codigo aca.\n",
    "    ####\n",
    "\n",
    "    return qc\n",
    "\n",
    "def Quantum_Kernel( X_train, X_test=None, backend=Aer.get_backend('statevector_simulator'), shots=100 ):\n",
    "    \"\"\" \n",
    "    X_train : vector bidimensional para entrenar\n",
    "    X_test  : vector bidimensional para testear\n",
    "    K_q     : Kernel cuantico\n",
    "    backend : simulador o computador cuantico\n",
    "    shots   : numero de shots     \n",
    "    \"\"\"\n",
    "\n",
    "    if X_test is None:\n",
    "        X_test = X_train\n",
    "    X_train = np.array(X_train)\n",
    "    X_test  = np.array(X_test)\n",
    "\n",
    "    qcs = []\n",
    "    qcs = []\n",
    "    for x_train in X_train:\n",
    "        for x_test in X_test:\n",
    "            qcs.append( circuit_for_kernel_element( x_train, x_test ) )\n",
    "\n",
    "    ####\n",
    "    # Escriba su codigo aca. Ejecute la lista de circuitos qcs en backend y obtenga las cuentas\n",
    "    ####\n",
    "\n",
    "    K_q = np.zeros(( X_test.shape[0], X_train.shape[0]))\n",
    "    ###\n",
    "    # Escriba su codigo aca. Guarde las probabilidades de 00 (cuentas normalizadas por shots) en los elementos de la matriz K_q\n",
    "    ###\n",
    "\n",
    "    return K_q"
   ]
  },
  {
   "cell_type": "code",
   "execution_count": 52,
   "metadata": {},
   "outputs": [],
   "source": [
    "Kq_train = Quantum_Kernel( X_train )\n",
    "Kq_test = Quantum_Kernel( X_train, X_test )"
   ]
  },
  {
   "cell_type": "code",
   "execution_count": 53,
   "metadata": {},
   "outputs": [
    {
     "data": {
      "text/plain": [
       "<matplotlib.image.AxesImage at 0x25cdd314190>"
      ]
     },
     "execution_count": 53,
     "metadata": {},
     "output_type": "execute_result"
    },
    {
     "data": {
      "image/png": "[encoded data removed]",
      "text/plain": [
       "<Figure size 720x360 with 2 Axes>"
      ]
     },
     "metadata": {
      "needs_background": "light"
     },
     "output_type": "display_data"
    }
   ],
   "source": [
    "fig, ax = plt.subplots( 1, 2, figsize=(10,5) )\n",
    "ax[0].imshow( Kq_train )\n",
    "ax[1].imshow( Kq_test )"
   ]
  },
  {
   "attachments": {},
   "cell_type": "markdown",
   "metadata": {},
   "source": [
    "## Problema 6. Entrenamiento con Kernel Cuántico.\n",
    "Entrene un discriminador con el dataset y el kernel cuántico que construyó. Posteriormente, realice un test de su entrenamiento."
   ]
  },
  {
   "cell_type": "code",
   "execution_count": 54,
   "metadata": {},
   "outputs": [
    {
     "name": "stdout",
     "output_type": "stream",
     "text": [
      "Datos de entrenamiento: [0. 1. 1. 1. 1. 0. 1. 1. 1. 1.]\n",
      "Predicción:             [1. 1. 1. 1. 1. 1. 1. 1. 1. 1.]\n",
      "Fidelidad:              0.8\n"
     ]
    }
   ],
   "source": [
    "svm = SVC( kernel = 'precomputed' )\n",
    "svm.fit( Kq_train, Y_train )\n",
    "Y_pred_quantum = svm.predict(Kq_test)\n",
    "print( 'Datos de entrenamiento:',  Y_test)\n",
    "print( 'Predicción:            ',  Y_pred_quantum)\n",
    "print( 'Fidelidad:             ', svm.score(Kq_test, Y_test) )"
   ]
  },
  {
   "cell_type": "code",
   "execution_count": null,
   "metadata": {},
   "outputs": [],
   "source": []
  },
  {
   "cell_type": "code",
   "execution_count": null,
   "metadata": {},
   "outputs": [],
   "source": []
  },
  {
   "cell_type": "code",
   "execution_count": null,
   "metadata": {},
   "outputs": [],
   "source": []
  }
 ],
 "metadata": {
  "hide_input": false,
  "kernelspec": {
   "display_name": "base",
   "language": "python",
   "name": "python3"
  },
  "language_info": {
   "codemirror_mode": {
    "name": "ipython",
    "version": 3
   },
   "file_extension": ".py",
   "mimetype": "text/x-python",
   "name": "python",
   "nbconvert_exporter": "python",
   "pygments_lexer": "ipython3",
   "version": "3.8.5"
  },
  "vscode": {
   "interpreter": {
    "hash": "19d1d53a962d236aa061289c2ac16dc8e6d9648c89fe79f459ae9a3493bc67b4"
   }
  }
 },
 "nbformat": 4,
 "nbformat_minor": 2
}
